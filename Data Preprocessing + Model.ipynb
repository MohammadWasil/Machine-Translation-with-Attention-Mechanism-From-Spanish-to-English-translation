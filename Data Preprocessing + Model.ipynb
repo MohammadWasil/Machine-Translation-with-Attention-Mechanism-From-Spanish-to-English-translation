{
 "cells": [
  {
   "cell_type": "code",
   "execution_count": 1,
   "metadata": {},
   "outputs": [],
   "source": [
    "import os\n",
    "import re"
   ]
  },
  {
   "cell_type": "code",
   "execution_count": 2,
   "metadata": {},
   "outputs": [],
   "source": [
    "DIR_path = \"D:\\MSc Data Science\\Advanced Modules\\[INF-DSAM1B] Advanced Machine Learning B\\Deep learning for NLP\\Project\\Machine translation with attention\"\n",
    "english_data_path = \"Data\\\\es-en\"\n",
    "spanish_data_path = \"Data\\\\es-en\""
   ]
  },
  {
   "cell_type": "code",
   "execution_count": 3,
   "metadata": {},
   "outputs": [],
   "source": [
    "# 'utf-8' removes b'' character string literal\n",
    "# splitlines() remove newline character\n",
    "with open(os.path.join(DIR_path, english_data_path, \"europarl-v7.es-en.en\"), \"rb\") as f:\n",
    "    content_english = f.read().decode(\"utf-8\").splitlines()\n"
   ]
  },
  {
   "cell_type": "code",
   "execution_count": 4,
   "metadata": {},
   "outputs": [],
   "source": [
    "with open(os.path.join(DIR_path, spanish_data_path, \"europarl-v7.es-en.es\"), \"rb\") as f:\n",
    "    content_spanish = f.read().decode(\"utf-8\").splitlines()"
   ]
  },
  {
   "cell_type": "code",
   "execution_count": 5,
   "metadata": {},
   "outputs": [],
   "source": [
    "def sent_preprocess(sentence):\n",
    "    sentence=sentence.lower()             \n",
    "    sentence = re.sub(r\"[-,.!?()]+\", r\"\", sentence)\n",
    "    return sentence\n",
    "\n",
    "_patterns = [r'\\'',\n",
    "             r'\\\"',\n",
    "             r'\\.',\n",
    "             r'<br \\/>',\n",
    "             r',',\n",
    "             r'\\(',\n",
    "             r'\\)',\n",
    "             r'\\!',\n",
    "             r'\\?',\n",
    "             r'\\;',\n",
    "             r'\\:',\n",
    "             r'\\s+']\n",
    "\n",
    "_replacements = [' \\'  ',\n",
    "                 '',\n",
    "                 ' . ',\n",
    "                 ' ',\n",
    "                 ' , ',\n",
    "                 ' ( ',\n",
    "                 ' ) ',\n",
    "                 ' ! ',\n",
    "                 ' ? ',\n",
    "                 ' ',\n",
    "                 ' ',\n",
    "                 ' ']\n",
    "\n",
    "_patterns_dict = list((re.compile(p), r) for p, r in zip(_patterns, _replacements))\n",
    "\n",
    "def sentence_preprocess(sentence):\n",
    "    \"\"\"https://pytorch.org/text/_modules/torchtext/data/utils.html\"\"\"\n",
    "    sentence = sentence.lower()\n",
    "    for pattern_re, replaced_str in _patterns_dict:\n",
    "        sentence = pattern_re.sub(replaced_str, sentence)\n",
    "    \n",
    "    return sentence"
   ]
  },
  {
   "cell_type": "code",
   "execution_count": 6,
   "metadata": {},
   "outputs": [
    {
     "name": "stdout",
     "output_type": "stream",
     "text": [
      "total english sentences:  1965734\n"
     ]
    }
   ],
   "source": [
    "# preprocess the english sentence\n",
    "sentence_english = []\n",
    "for sent in content_english:\n",
    "    sentence_english.append(sentence_preprocess(sent))\n",
    "print(\"total english sentences: \", len(sentence_english))"
   ]
  },
  {
   "cell_type": "code",
   "execution_count": 7,
   "metadata": {},
   "outputs": [
    {
     "name": "stdout",
     "output_type": "stream",
     "text": [
      "total spanish sentences:  1965734\n"
     ]
    }
   ],
   "source": [
    "# preprocess the spanish sentence\n",
    "sentence_spanish = []\n",
    "for sent in content_spanish:\n",
    "    sentence_spanish.append(sentence_preprocess(sent))\n",
    "print(\"total spanish sentences: \", len(sentence_spanish))"
   ]
  },
  {
   "cell_type": "markdown",
   "metadata": {},
   "source": [
    "### Tokenize the data"
   ]
  },
  {
   "cell_type": "code",
   "execution_count": 8,
   "metadata": {},
   "outputs": [],
   "source": [
    "import torch\n",
    "import torch.nn as nn\n",
    "import torch.nn.functional as F\n",
    "import torch.optim as optim\n",
    "import nltk\n",
    "from tqdm import tqdm\n",
    "import pickle"
   ]
  },
  {
   "cell_type": "code",
   "execution_count": 9,
   "metadata": {},
   "outputs": [
    {
     "name": "stderr",
     "output_type": "stream",
     "text": [
      "100%|██████████████████████████████████████████████████████████████████████████████| 500/500 [00:00<00:00, 4774.61it/s]\n"
     ]
    }
   ],
   "source": [
    "# Loop over wach of the sentence and tokenize eacch sentenec separately.\n",
    "# will take some time to tokenize each sentence.\n",
    "english_tokenized_text = [ nltk.word_tokenize(sentence_english[i], language=\"english\") for i in tqdm(range(len(sentence_english[:500]))) ]\n",
    "\n",
    "# create word index\n",
    "# assign each word a number.\n",
    "word_to_index_eng = {}\n",
    "words=[]\n",
    "for sentence in english_tokenized_text:\n",
    "    for word in sentence:\n",
    "        words.append(word)\n",
    "UNIQUE_WORDS = set(words)\n",
    "\n",
    "for index, word in enumerate(UNIQUE_WORDS):\n",
    "    word_to_index_eng[word] = index\n",
    "\n",
    "# add tokens: <SOS> and <EOS>\n",
    "word_to_index_eng[\"<SOS>\"] = list(word_to_index_eng.values())[-1] + 1\n",
    "word_to_index_eng[\"<EOS>\"] = list(word_to_index_eng.values())[-1] + 1\n",
    "\n",
    "# using word index, create tensor\n",
    "# convert each of the sentence into numbers.\n",
    "english_tokenized_tensor = []\n",
    "\n",
    "for sentence in english_tokenized_text:\n",
    "    #english_tokenized_tensor.append( [word_to_index[word] for word in sentence]  )\n",
    "    tensor_list=[]\n",
    "    tensor_list.append(word_to_index_eng[\"<SOS>\"])\n",
    "    tensor_list = tensor_list + [word_to_index_eng[word] for word in sentence]\n",
    "    tensor_list.append(word_to_index_eng[\"<EOS>\"])\n",
    "\n",
    "    english_tokenized_tensor.append(torch.tensor(tensor_list, dtype=torch.long))"
   ]
  },
  {
   "cell_type": "code",
   "execution_count": 10,
   "metadata": {},
   "outputs": [
    {
     "name": "stderr",
     "output_type": "stream",
     "text": [
      "100%|██████████████████████████████████████████████████████████████████████████████| 500/500 [00:00<00:00, 4597.97it/s]\n"
     ]
    }
   ],
   "source": [
    "# Loop over wach of the sentence and tokenize eacch sentenec separately.\n",
    "# will take some time to tokenize each sentence.\n",
    "spanish_tokenized_text = [ nltk.word_tokenize(sentence_spanish[i], language=\"spanish\") for i in tqdm(range(len(sentence_spanish[:500]))) ]\n",
    "\n",
    "# create word index\n",
    "# assign each word a number.\n",
    "word_to_index_spanish = {}\n",
    "words=[]\n",
    "for sentence in spanish_tokenized_text:\n",
    "    for word in sentence:\n",
    "        words.append(word)\n",
    "UNIQUE_WORDS = set(words)\n",
    "\n",
    "for index, word in enumerate(UNIQUE_WORDS):\n",
    "    word_to_index_spanish[word] = index\n",
    "\n",
    "# add tokens: <SOS> and <EOS>\n",
    "word_to_index_spanish[\"<SOS>\"] = list(word_to_index_spanish.values())[-1] + 1\n",
    "word_to_index_spanish[\"<EOS>\"] = list(word_to_index_spanish.values())[-1] + 1\n",
    "\n",
    "# using word index, create tensor\n",
    "# convert each of the sentence into numbers.\n",
    "spanish_tokenized_tensor = []\n",
    "\n",
    "for sentence in spanish_tokenized_text:\n",
    "    \n",
    "    tensor_list=[]\n",
    "    tensor_list.append(word_to_index_spanish[\"<SOS>\"])\n",
    "    tensor_list = tensor_list + [word_to_index_spanish[word] for word in sentence]\n",
    "    tensor_list.append(word_to_index_spanish[\"<EOS>\"])\n",
    "    spanish_tokenized_tensor.append(torch.tensor(tensor_list, dtype=torch.long))\n"
   ]
  },
  {
   "cell_type": "markdown",
   "metadata": {},
   "source": [
    "# Model"
   ]
  },
  {
   "cell_type": "code",
   "execution_count": 11,
   "metadata": {},
   "outputs": [],
   "source": [
    "# For cuda.\n",
    "device = torch.device('cuda' if torch.cuda.is_available() else 'cpu')"
   ]
  },
  {
   "cell_type": "code",
   "execution_count": 18,
   "metadata": {},
   "outputs": [],
   "source": [
    "BATCH_SIZE = 16\n",
    "MAX_SENTENCE_LENGTH = 50\n",
    "EMBEDDING_DIM = 30\n",
    "ENCODER_HIDDEN_DIM = 1000\n",
    "DECODER_HIDDEN_DIM = 1000\n",
    "EPOCHS = 1\n",
    "\n",
    "EMBEDDING_SIZE_ENGLISH = len(word_to_index_eng)\n",
    "EMBEDDING_SIZE_SPANISH = len(word_to_index_spanish)"
   ]
  },
  {
   "cell_type": "code",
   "execution_count": 13,
   "metadata": {},
   "outputs": [],
   "source": [
    "def padding(english_tokenized_tensor, spanish_tokenized_tensor):\n",
    "    \n",
    "    spanish_batch=[]\n",
    "    for batch in spanish_tokenized_tensor:\n",
    "        if(len(batch) > MAX_SENTENCE_LENGTH):\n",
    "            batch = batch[0:MAX_SENTENCE_LENGTH]\n",
    "        if( (MAX_SENTENCE_LENGTH - batch.shape[0]) != 0 ) :\n",
    "            spanish_batch.append(torch.cat((batch, torch.LongTensor([0]).repeat(MAX_SENTENCE_LENGTH - len(batch))), dim=0) )\n",
    "        else:\n",
    "            spanish_batch.append(batch)\n",
    "       \n",
    "    english_batch=[]\n",
    "    for batch in english_tokenized_tensor:\n",
    "        # only consider top 50 words in each sentences.\n",
    "        if(len(batch) > MAX_SENTENCE_LENGTH):\n",
    "            batch = batch[0:MAX_SENTENCE_LENGTH]\n",
    "        if( (MAX_SENTENCE_LENGTH - batch.shape[0]) != 0 ) :\n",
    "            english_batch.append(torch.cat((batch, torch.LongTensor([0]).repeat(MAX_SENTENCE_LENGTH - len(batch))), dim=0) )\n",
    "        else:\n",
    "            english_batch.append(batch)\n",
    "\n",
    "    # the first element of the batchholds the first elements of every sequence in the batch. \n",
    "    # the second element of the batch is going to hold the second element of every sequence in the batch, and so on.\n",
    "    # shape : [sequence_length, batch_size]\n",
    "    spanish_batch = torch.transpose(torch.stack(spanish_batch), 0, 1)\n",
    "    english_batch = torch.transpose(torch.stack(english_batch), 0, 1)\n",
    "    \n",
    "    return english_batch, spanish_batch"
   ]
  },
  {
   "cell_type": "code",
   "execution_count": 26,
   "metadata": {},
   "outputs": [],
   "source": [
    "class Encoder(nn.Module):\n",
    "    def __init__(self, EMBEDDING_DIM, EMBEDDING_SIZE_ENGLISH, ENCODER_HIDDEN_DIM, DECODER_HIDDEN_DIM):\n",
    "        super(Encoder, self).__init__()\n",
    "\n",
    "        self.embedding_dim = ENCODER_HIDDEN_DIM\n",
    "        self.embedding_size_english = EMBEDDING_SIZE_ENGLISH\n",
    "        self.hidden_dim = HIDDEN_DIM\n",
    "\n",
    "        self.embedding = nn.Embedding( self.embedding_size_english , self.embedding_dim)\n",
    "\n",
    "        self.rnn = nn.RNN(self.embedding_dim, self.hidden_dim, bidirectional =True)\n",
    "\n",
    "        self.linear = nn.Linear(self.hidden_dim*2, DECODER_HIDDEN_DIM)\n",
    "\n",
    "    def forward(self, inputs):\n",
    "        # WRITE CODE HERE\n",
    "        # input : [sequence_len, batch_size]\n",
    "        embeds = self.embedding(inputs)\n",
    "        # https://stackoverflow.com/questions/49466894/how-to-correctly-give-inputs-to-embedding-lstm-and-linear-layers-in-pytorch\n",
    "        # output of the embedding is [seq_len, batch_size, embedding_size]\n",
    "\n",
    "        #input: [seq_len, batch_size, embedding_size]\n",
    "        rnn_enc, hidden = self.rnn(embeds)\n",
    "        # rnn out shape : [sequence_len, batch_size, ENCODER_HIDDEN_DIM*2]\n",
    "        # hidden shape   : [2, batch_size, ENCODER_HIDDEN_DIM]\n",
    "\n",
    "        # concatenate both forward and backward hidden vectors\n",
    "        hidden_f_b = torch.cat((hidden[0,:,:], hidden[1,:,:]), dim = 1)\n",
    "        # output shape: [batch_size, ENCODER_HIDDEN_DIM*2]\n",
    "\n",
    "        # input: [batch_size, ENCODER_HIDDEN_DIM*2]\n",
    "        hidden_enc = self.linear(hidden_f_b)\n",
    "        # output: [batch_size, DECODER_HIDDEN_DIM]\n",
    "\n",
    "        hidden_enc = torch.tanh(hidden_enc)\n",
    "\n",
    "        return rnn_enc, hidden_enc"
   ]
  },
  {
   "cell_type": "code",
   "execution_count": 180,
   "metadata": {},
   "outputs": [],
   "source": [
    "class Attention(nn.Module):\n",
    "    def __init__(self, DECODER_HIDDEN_DIM, ENCODER_HIDDEN_DIM):\n",
    "        super(Attention, self).__init__()\n",
    "\n",
    "        self.fc1 = nn.Linear((ENCODER_HIDDEN_DIM*2) + DECODER_HIDDEN_DIM, DECODER_HIDDEN_DIM)\n",
    "        self.fc2 = nn.Linear(DECODER_HIDDEN_DIM, 1)\n",
    "        \n",
    "        \n",
    "    def forward(self, encoder_output, decoder_hidden):\n",
    "        # WRITE CODE HERE\n",
    "\n",
    "        # encoder_output shape : [sequence_len, batch_size, ENCODER_HIDDEN_DIM*2]\n",
    "        # decoder_hidden shape : [batch_size, DECODER_HIDDEN_DIM]\n",
    "\n",
    "        # repeat decoder hidden state sequence_len Time's.       \n",
    "        decoder_hidden = torch.unsqueeze(decoder_hidden, 1)\n",
    "        # [batch_size, 1, DECODER_HIDDEN_DIM]\n",
    "        \n",
    "        decoder_hidden = decoder_hidden.repeat(1, encoder_output.shape[0], 1)\n",
    "        # [batch_size, sequence_len, DECODER_HIDDEN_DIM]\n",
    "        \n",
    "        encoder_output = encoder_output.permute(1, 0, 2)\n",
    "        # encoder_output- shape : [batch_size, sequence_len, ENCODER_HIDDEN_DIM*2]\n",
    "        \n",
    "        # concatenate encoder's output and decoder's hidden state\n",
    "        # and feed into a neural network layer\n",
    "        concat = torch.cat((encoder_output, decoder_hidden), dim=2)\n",
    "        # shape- [batch_size, sequence_len, (ENCODER_HIDDEN_DIM*2) + DECODER_HIDDEN_DIM], [batch_size, sequence_len, 3000]\n",
    "        \n",
    "        # input shape: [batch_size, sequence_len, (ENCODER_HIDDEN_DIM*2) + DECODER_HIDDEN_DIM]\n",
    "        fc1 = self.fc1(concat)\n",
    "        # output: [batch_size, sequence_len, DECODER_HIDDEN_DIM]\n",
    "        \n",
    "        fc1 = torch.tanh(fc1)\n",
    "        # output: [batch_size, sequence_len, DECODER_HIDDEN_DIM]     \n",
    "        \n",
    "        fc2 = self.fc2(fc1)\n",
    "        # output: [batch_size, sequence_len, 1]\n",
    "        \n",
    "        alpha = F.softmax(fc2, dim=1)\n",
    "        # output: [batch_size, sequence_len, 1]\n",
    "        \n",
    "        # attention vector to take the weighted sum of the encoder hidden state.\n",
    "        alpha=alpha.permute(0, 2, 1)\n",
    "        # alpha shape:            [batch_size, 1, sequence_len]\n",
    "        # encoder_output- shape : [batch_size, sequence_len, ENCODER_HIDDEN_DIM*2]\n",
    "        \n",
    "        a=alpha@encoder_output     # multiplying all the words in each sequence, from 1..N, wher N=sequence len.\n",
    "        # [batch_size, 1, sequence_len] * [batch_size, sequence_len, ENCODER_HIDDEN_DIM*2]\n",
    "        # attention- shape : [batch_size, 1, ENCODER_HIDDEN_DIM*2]\n",
    "        \n",
    "        \n",
    "        return a"
   ]
  },
  {
   "cell_type": "code",
   "execution_count": 177,
   "metadata": {},
   "outputs": [
    {
     "ename": "SyntaxError",
     "evalue": "unexpected EOF while parsing (<ipython-input-177-bab116b6c02b>, line 6)",
     "output_type": "error",
     "traceback": [
      "\u001b[1;36m  File \u001b[1;32m\"<ipython-input-177-bab116b6c02b>\"\u001b[1;36m, line \u001b[1;32m6\u001b[0m\n\u001b[1;33m    \u001b[0m\n\u001b[1;37m    ^\u001b[0m\n\u001b[1;31mSyntaxError\u001b[0m\u001b[1;31m:\u001b[0m unexpected EOF while parsing\n"
     ]
    }
   ],
   "source": [
    "class Decoder(nn.Module):\n",
    "    def __init__(self):\n",
    "        super(Decoder, self).__init__()\n",
    "        \n",
    "    def forward(self):\n",
    "        "
   ]
  },
  {
   "cell_type": "code",
   "execution_count": 181,
   "metadata": {},
   "outputs": [],
   "source": [
    "# encoder model\n",
    "model = Encoder(EMBEDDING_DIM, EMBEDDING_SIZE_ENGLISH, ENCODER_HIDDEN_DIM, DECODER_HIDDEN_DIM)\n",
    "model.to(device)\n",
    "\n",
    "model_attn = Attention(DECODER_HIDDEN_DIM, ENCODER_HIDDEN_DIM)\n",
    "model_attn.to(device)\n",
    "\n",
    "optimizer = optim.Adam(model.parameters(), lr = 0.001)\n",
    "loss_function = nn.NLLLoss()"
   ]
  },
  {
   "cell_type": "code",
   "execution_count": 182,
   "metadata": {},
   "outputs": [
    {
     "name": "stdout",
     "output_type": "stream",
     "text": [
      "torch.Size([16, 1, 2000])\n",
      "torch.Size([16, 1, 2000])\n",
      "torch.Size([16, 1, 2000])\n",
      "torch.Size([16, 1, 2000])\n",
      "torch.Size([16, 1, 2000])\n",
      "torch.Size([16, 1, 2000])\n",
      "torch.Size([16, 1, 2000])\n",
      "torch.Size([16, 1, 2000])\n",
      "torch.Size([16, 1, 2000])\n",
      "torch.Size([16, 1, 2000])\n",
      "torch.Size([16, 1, 2000])\n",
      "torch.Size([16, 1, 2000])\n",
      "torch.Size([16, 1, 2000])\n",
      "torch.Size([16, 1, 2000])\n",
      "torch.Size([16, 1, 2000])\n",
      "torch.Size([16, 1, 2000])\n",
      "torch.Size([16, 1, 2000])\n",
      "torch.Size([16, 1, 2000])\n",
      "torch.Size([16, 1, 2000])\n",
      "torch.Size([16, 1, 2000])\n",
      "torch.Size([16, 1, 2000])\n",
      "torch.Size([16, 1, 2000])\n",
      "torch.Size([16, 1, 2000])\n",
      "torch.Size([16, 1, 2000])\n",
      "torch.Size([16, 1, 2000])\n",
      "torch.Size([16, 1, 2000])\n",
      "torch.Size([16, 1, 2000])\n",
      "torch.Size([16, 1, 2000])\n",
      "torch.Size([16, 1, 2000])\n",
      "torch.Size([16, 1, 2000])\n",
      "torch.Size([16, 1, 2000])\n",
      "torch.Size([4, 1, 2000])\n"
     ]
    }
   ],
   "source": [
    "for epochs in range(EPOCHS):\n",
    "    total_loss = 0\n",
    "    model.to(device)\n",
    "    for i in range(0, len(english_tokenized_tensor), BATCH_SIZE):\n",
    "        english_batch = english_tokenized_tensor[i:i+BATCH_SIZE] \n",
    "        spanish_batch = spanish_tokenized_tensor[i:i+BATCH_SIZE] \n",
    "\n",
    "        en, es = padding(english_batch, spanish_batch) # shape : [sequence_length, batch_size]\n",
    "\n",
    "        en = en.to(device)\n",
    "        es = es.to(device)\n",
    "\n",
    "        encoder_output, enc_hidden = model(en)\n",
    "        decoder_hidden = enc_hidden    # need to change this somehow.\n",
    "        model_attn(encoder_output, decoder_hidden)\n",
    "        \n",
    "        \n",
    "        #model_attn(encoder_output, decoder_hidden)"
   ]
  },
  {
   "cell_type": "code",
   "execution_count": null,
   "metadata": {},
   "outputs": [],
   "source": []
  },
  {
   "cell_type": "code",
   "execution_count": null,
   "metadata": {},
   "outputs": [],
   "source": []
  },
  {
   "cell_type": "code",
   "execution_count": null,
   "metadata": {},
   "outputs": [],
   "source": []
  },
  {
   "cell_type": "code",
   "execution_count": null,
   "metadata": {},
   "outputs": [],
   "source": []
  }
 ],
 "metadata": {
  "kernelspec": {
   "display_name": "pytorch",
   "language": "python",
   "name": "pytorch"
  },
  "language_info": {
   "codemirror_mode": {
    "name": "ipython",
    "version": 3
   },
   "file_extension": ".py",
   "mimetype": "text/x-python",
   "name": "python",
   "nbconvert_exporter": "python",
   "pygments_lexer": "ipython3",
   "version": "3.7.4"
  }
 },
 "nbformat": 4,
 "nbformat_minor": 4
}
