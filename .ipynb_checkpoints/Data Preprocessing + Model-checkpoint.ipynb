{
 "cells": [
  {
   "cell_type": "code",
   "execution_count": 1,
   "metadata": {},
   "outputs": [],
   "source": [
    "import os\n",
    "import re\n",
    "import spacy"
   ]
  },
  {
   "cell_type": "code",
   "execution_count": 3,
   "metadata": {},
   "outputs": [],
   "source": [
    "DIR_path = \"D:\\MSc Data Science\\Advanced Modules\\[INF-DSAM1B] Advanced Machine Learning B\\Deep learning for NLP\\Project\\Machine translation with attention\"\n",
    "english_data_path = \"Data\\\\es-en\"\n",
    "spanish_data_path = \"Data\\\\es-en\""
   ]
  },
  {
   "cell_type": "code",
   "execution_count": 8,
   "metadata": {},
   "outputs": [],
   "source": [
    "# 'utf-8' removes b'' character string literal\n",
    "# splitlines() remove newline character\n",
    "with open(os.path.join(DIR_path, english_data_path, \"europarl-v7.es-en.en\"), \"rb\") as f:\n",
    "    content_english = f.read().decode(\"utf-8\").splitlines()\n"
   ]
  },
  {
   "cell_type": "code",
   "execution_count": 9,
   "metadata": {},
   "outputs": [],
   "source": [
    "with open(os.path.join(DIR_path, spanish_data_path, \"europarl-v7.es-en.es\"), \"rb\") as f:\n",
    "    content_spanish = f.read().decode(\"utf-8\").splitlines()"
   ]
  },
  {
   "cell_type": "code",
   "execution_count": 10,
   "metadata": {},
   "outputs": [],
   "source": [
    "def sent_preprocess(sentence):\n",
    "    sentence=sentence.lower()             \n",
    "    sentence = re.sub(r\"[-,.!?()]+\", r\"\", sentence)\n",
    "    return sentence\n",
    "\n",
    "_patterns = [r'\\'',\n",
    "             r'\\\"',\n",
    "             r'\\.',\n",
    "             r'<br \\/>',\n",
    "             r',',\n",
    "             r'\\(',\n",
    "             r'\\)',\n",
    "             r'\\!',\n",
    "             r'\\?',\n",
    "             r'\\;',\n",
    "             r'\\:',\n",
    "             r'\\s+']\n",
    "\n",
    "_replacements = [' \\'  ',\n",
    "                 '',\n",
    "                 ' . ',\n",
    "                 ' ',\n",
    "                 ' , ',\n",
    "                 ' ( ',\n",
    "                 ' ) ',\n",
    "                 ' ! ',\n",
    "                 ' ? ',\n",
    "                 ' ',\n",
    "                 ' ',\n",
    "                 ' ']\n",
    "\n",
    "_patterns_dict = list((re.compile(p), r) for p, r in zip(_patterns, _replacements))\n",
    "\n",
    "def sentence_preprocess(sentence):\n",
    "    \"\"\"https://pytorch.org/text/_modules/torchtext/data/utils.html\"\"\"\n",
    "    sentence = sentence.lower()\n",
    "    for pattern_re, replaced_str in _patterns_dict:\n",
    "        sentence = pattern_re.sub(replaced_str, sentence)\n",
    "    \n",
    "    return sentence"
   ]
  },
  {
   "cell_type": "code",
   "execution_count": 11,
   "metadata": {},
   "outputs": [
    {
     "name": "stdout",
     "output_type": "stream",
     "text": [
      "total english sentences:  1965734\n"
     ]
    }
   ],
   "source": [
    "# preprocess the english sentence\n",
    "sentence_english = []\n",
    "for sent in content_english:\n",
    "    sentence_english.append(sentence_preprocess(sent))\n",
    "print(\"total english sentences: \", len(sentence_english))"
   ]
  },
  {
   "cell_type": "code",
   "execution_count": 12,
   "metadata": {},
   "outputs": [
    {
     "name": "stdout",
     "output_type": "stream",
     "text": [
      "total spanish sentences:  1965734\n"
     ]
    }
   ],
   "source": [
    "# preprocess the spanish sentence\n",
    "sentence_spanish = []\n",
    "for sent in content_spanish:\n",
    "    sentence_spanish.append(sentence_preprocess(sent))\n",
    "print(\"total spanish sentences: \", len(sentence_spanish))"
   ]
  },
  {
   "cell_type": "markdown",
   "metadata": {},
   "source": [
    "### Tokenize the data"
   ]
  },
  {
   "cell_type": "code",
   "execution_count": 24,
   "metadata": {},
   "outputs": [],
   "source": [
    "import torch\n",
    "import nltk\n",
    "from tqdm import tqdm\n",
    "import pickle"
   ]
  },
  {
   "cell_type": "code",
   "execution_count": 69,
   "metadata": {},
   "outputs": [
    {
     "name": "stderr",
     "output_type": "stream",
     "text": [
      "100%|███████████████████████████████████████████████████████████████████████████████| 500/500 [00:00<00:00, 979.09it/s]\n"
     ]
    }
   ],
   "source": [
    "# Loop over wach of the sentence and tokenize eacch sentenec separately.\n",
    "# will take some time to tokenize each sentence.\n",
    "english_tokenized_text = [ nltk.word_tokenize(sentence_english[i], language=\"english\")  \n",
    "                          for i in tqdm(range(len(sentence_english))) \n",
    "                          if (len(nltk.word_tokenize(sentence_english[i], language=\"english\"))) <= 48 ]\n",
    "\n",
    "# create word index\n",
    "# assign each word a number.\n",
    "word_to_index_eng = {}\n",
    "words=[]\n",
    "for sentence in english_tokenized_text:\n",
    "    for word in sentence:\n",
    "        words.append(word)\n",
    "UNIQUE_WORDS = set(words)\n",
    "\n",
    "for index, word in enumerate(UNIQUE_WORDS):\n",
    "    word_to_index_eng[word] = index\n",
    "\n",
    "# add tokens: <SOS> and <EOS>\n",
    "word_to_index_eng[\"<SOS>\"] = list(word_to_index_eng.values())[-1] + 1\n",
    "word_to_index_eng[\"<EOS>\"] = list(word_to_index_eng.values())[-1] + 1\n",
    "\n",
    "# using word index, create tensor\n",
    "# convert each of the sentence into numbers.\n",
    "english_tokenized_tensor = []\n",
    "\n",
    "for sentence in english_tokenized_text:\n",
    "    #english_tokenized_tensor.append( [word_to_index[word] for word in sentence]  )\n",
    "    tensor_list=[]\n",
    "    tensor_list.append(word_to_index_eng[\"<SOS>\"])\n",
    "    tensor_list = tensor_list + [word_to_index_eng[word] for word in sentence]\n",
    "    tensor_list.append(word_to_index_eng[\"<EOS>\"])\n",
    "\n",
    "    english_tokenized_tensor.append(torch.tensor(tensor_list, dtype=torch.long))"
   ]
  },
  {
   "cell_type": "code",
   "execution_count": 70,
   "metadata": {},
   "outputs": [
    {
     "name": "stderr",
     "output_type": "stream",
     "text": [
      "100%|██████████████████████████████████████████████████████████████████████████████| 500/500 [00:00<00:00, 4096.24it/s]\n"
     ]
    }
   ],
   "source": [
    "# Loop over wach of the sentence and tokenize eacch sentenec separately.\n",
    "# will take some time to tokenize each sentence.\n",
    "spanish_tokenized_text = [ nltk.word_tokenize(sentence_spanish[i], language=\"spanish\") \n",
    "                        for i in tqdm(range(len(sentence_spanish)))\n",
    "                        if (len(nltk.word_tokenize(sentence_spanish[i], language=\"spanish\"))) <= 48 ]\n",
    "# create word index\n",
    "# assign each word a number.\n",
    "word_to_index_spanish = {}\n",
    "words=[]\n",
    "for sentence in spanish_tokenized_text:\n",
    "    for word in sentence:\n",
    "        words.append(word)\n",
    "UNIQUE_WORDS = set(words)\n",
    "\n",
    "for index, word in enumerate(UNIQUE_WORDS):\n",
    "    word_to_index_spanish[word] = index\n",
    "\n",
    "# add tokens: <SOS> and <EOS>\n",
    "word_to_index_spanish[\"<SOS>\"] = list(word_to_index_spanish.values())[-1] + 1\n",
    "word_to_index_spanish[\"<EOS>\"] = list(word_to_index_spanish.values())[-1] + 1\n",
    "\n",
    "# using word index, create tensor\n",
    "# convert each of the sentence into numbers.\n",
    "spanish_tokenized_tensor = []\n",
    "\n",
    "for sentence in spanish_tokenized_text:\n",
    "    \n",
    "    tensor_list=[]\n",
    "    tensor_list.append(word_to_index_spanish[\"<SOS>\"])\n",
    "    tensor_list = tensor_list + [word_to_index_spanish[word] for word in sentence]\n",
    "    tensor_list.append(word_to_index_spanish[\"<EOS>\"])\n",
    "    spanish_tokenized_tensor.append(torch.tensor(tensor_list, dtype=torch.long))\n"
   ]
  },
  {
   "cell_type": "markdown",
   "metadata": {},
   "source": [
    "# Model"
   ]
  },
  {
   "cell_type": "code",
   "execution_count": 13,
   "metadata": {},
   "outputs": [],
   "source": [
    "import torch\n",
    "import torch.nn as nn\n",
    "import torch.nn.functional as F\n",
    "import torch.optim as optim\n",
    "import pickle"
   ]
  },
  {
   "cell_type": "code",
   "execution_count": 14,
   "metadata": {},
   "outputs": [],
   "source": [
    "# For cuda.\n",
    "device = torch.device('cuda' if torch.cuda.is_available() else 'cpu')"
   ]
  },
  {
   "cell_type": "code",
   "execution_count": 3,
   "metadata": {},
   "outputs": [],
   "source": [
    "with open(\"D:\\MSc Data Science\\Advanced Modules\\[INF-DSAM1B] Advanced Machine Learning B\\Deep learning for NLP\\Project\\Machine translation with attention\\Processed Data\\\\valid.pickle\", \"rb\") as f:\n",
    "    valid = pickle.load(f)\n",
    "#with open(\"spanish_tokenized_tensor.pickle\", \"rb\") as f:\n",
    "#    spanish_tokenized_tensor = pickle.load(f)"
   ]
  },
  {
   "cell_type": "code",
   "execution_count": 4,
   "metadata": {},
   "outputs": [],
   "source": [
    "english_tokenized_tensor = valid[0]\n",
    "spanish_tokenized_tensor = valid[1]"
   ]
  },
  {
   "cell_type": "code",
   "execution_count": 5,
   "metadata": {},
   "outputs": [],
   "source": [
    "with open(\"D:\\MSc Data Science\\Advanced Modules\\[INF-DSAM1B] Advanced Machine Learning B\\Deep learning for NLP\\Project\\Machine translation with attention\\Processed Data\\\\word_to_index_eng.pickle\", \"rb\") as f:\n",
    "    word_to_index_eng = pickle.load(f)\n",
    "with open(\"D:\\MSc Data Science\\Advanced Modules\\[INF-DSAM1B] Advanced Machine Learning B\\Deep learning for NLP\\Project\\Machine translation with attention\\Processed Data\\\\word_to_index_spanish.pickle\", \"rb\") as f:\n",
    "    word_to_index_spanish = pickle.load(f)"
   ]
  },
  {
   "cell_type": "code",
   "execution_count": 6,
   "metadata": {},
   "outputs": [],
   "source": [
    "BATCH_SIZE = 16\n",
    "MAX_SENTENCE_LENGTH = 50\n",
    "EMBEDDING_DIM = 30\n",
    "ENCODER_HIDDEN_DIM = 1000\n",
    "DECODER_HIDDEN_DIM = 1000\n",
    "EPOCHS = 10\n",
    "\n",
    "EMBEDDING_SIZE_ENGLISH = len(word_to_index_eng)\n",
    "EMBEDDING_SIZE_SPANISH = len(word_to_index_spanish)"
   ]
  },
  {
   "cell_type": "code",
   "execution_count": 7,
   "metadata": {},
   "outputs": [],
   "source": [
    "def padding(english_tokenized_tensor, spanish_tokenized_tensor):\n",
    "    \n",
    "    spanish_batch=[]\n",
    "    for batch in spanish_tokenized_tensor:\n",
    "        if(len(batch) > MAX_SENTENCE_LENGTH):\n",
    "            batch = batch[0:MAX_SENTENCE_LENGTH]\n",
    "        if( (MAX_SENTENCE_LENGTH - batch.shape[0]) != 0 ) :\n",
    "            spanish_batch.append(torch.cat((batch, torch.LongTensor([0]).repeat(MAX_SENTENCE_LENGTH - len(batch))), dim=0) )\n",
    "        else:\n",
    "            spanish_batch.append(batch)\n",
    "       \n",
    "    english_batch=[]\n",
    "    for batch in english_tokenized_tensor:\n",
    "        # only consider top 50 words in each sentences.\n",
    "        if(len(batch) > MAX_SENTENCE_LENGTH):\n",
    "            batch = batch[0:MAX_SENTENCE_LENGTH]\n",
    "        if( (MAX_SENTENCE_LENGTH - batch.shape[0]) != 0 ) :\n",
    "            english_batch.append(torch.cat((batch, torch.LongTensor([0]).repeat(MAX_SENTENCE_LENGTH - len(batch))), dim=0) )\n",
    "        else:\n",
    "            english_batch.append(batch)\n",
    "\n",
    "    # the first element of the batchholds the first elements of every sequence in the batch. \n",
    "    # the second element of the batch is going to hold the second element of every sequence in the batch, and so on.\n",
    "    # shape : [sequence_length, batch_size]\n",
    "    spanish_batch = torch.transpose(torch.stack(spanish_batch), 0, 1)\n",
    "    english_batch = torch.transpose(torch.stack(english_batch), 0, 1)\n",
    "    \n",
    "    return english_batch, spanish_batch"
   ]
  },
  {
   "cell_type": "code",
   "execution_count": 8,
   "metadata": {},
   "outputs": [],
   "source": [
    "class Encoder(nn.Module):\n",
    "    def __init__(self, EMBEDDING_DIM, EMBEDDING_SIZE_ENGLISH, ENCODER_HIDDEN_DIM, DECODER_HIDDEN_DIM):\n",
    "        super(Encoder, self).__init__()\n",
    "\n",
    "        self.embedding_dim = EMBEDDING_DIM\n",
    "        self.embedding_size_english = EMBEDDING_SIZE_ENGLISH\n",
    "        self.hidden_dim = ENCODER_HIDDEN_DIM\n",
    "\n",
    "        self.embedding = nn.Embedding( self.embedding_size_english , self.embedding_dim)\n",
    "\n",
    "        self.rnn = nn.RNN(self.embedding_dim, self.hidden_dim, bidirectional =True)\n",
    "\n",
    "        self.linear = nn.Linear(self.hidden_dim*2, DECODER_HIDDEN_DIM)\n",
    "\n",
    "    def forward(self, inputs):\n",
    "        # WRITE CODE HERE\n",
    "        # input : [sequence_len, batch_size]\n",
    "        embeds = self.embedding(inputs)\n",
    "        # https://stackoverflow.com/questions/49466894/how-to-correctly-give-inputs-to-embedding-lstm-and-linear-layers-in-pytorch\n",
    "        # output of the embedding is [seq_len, batch_size, embedding_size]\n",
    "\n",
    "        #input: [seq_len, batch_size, embedding_size]\n",
    "        rnn_enc, hidden = self.rnn(embeds)\n",
    "        # rnn out shape : [sequence_len, batch_size, ENCODER_HIDDEN_DIM*2]\n",
    "        # hidden shape   : [2, batch_size, ENCODER_HIDDEN_DIM]\n",
    "\n",
    "        # concatenate both forward and backward hidden vectors\n",
    "        hidden_f_b = torch.cat((hidden[0,:,:], hidden[1,:,:]), dim = 1)\n",
    "        # output shape: [batch_size, ENCODER_HIDDEN_DIM*2]\n",
    "\n",
    "        # input: [batch_size, ENCODER_HIDDEN_DIM*2]\n",
    "        hidden_enc = self.linear(hidden_f_b)\n",
    "        # output: [batch_size, DECODER_HIDDEN_DIM]\n",
    "\n",
    "        hidden_enc = torch.tanh(hidden_enc)\n",
    "\n",
    "        return rnn_enc, hidden_enc"
   ]
  },
  {
   "cell_type": "code",
   "execution_count": 9,
   "metadata": {},
   "outputs": [],
   "source": [
    "class Attention(nn.Module):\n",
    "    def __init__(self, DECODER_HIDDEN_DIM, ENCODER_HIDDEN_DIM):\n",
    "        super(Attention, self).__init__()\n",
    "\n",
    "        self.fc1 = nn.Linear((ENCODER_HIDDEN_DIM*2) + DECODER_HIDDEN_DIM, DECODER_HIDDEN_DIM)\n",
    "        self.fc2 = nn.Linear(DECODER_HIDDEN_DIM, 1)\n",
    "        \n",
    "        \n",
    "    def forward(self, encoder_output, decoder_hidden):\n",
    "        # WRITE CODE HERE\n",
    "\n",
    "        # encoder_output shape : [sequence_len, batch_size, ENCODER_HIDDEN_DIM*2]\n",
    "        # decoder_hidden shape : [batch_size, DECODER_HIDDEN_DIM]\n",
    "\n",
    "        # repeat decoder hidden state sequence_len Time's.       \n",
    "        # input shape : [batch_size, DECODER_HIDDEN_DIM]\n",
    "        decoder_hidden = torch.unsqueeze(decoder_hidden, 1)\n",
    "        # output shape: [batch_size, 1, DECODER_HIDDEN_DIM]\n",
    "        \n",
    "        decoder_hidden = decoder_hidden.repeat(1, encoder_output.shape[0], 1)\n",
    "        # [batch_size, sequence_len, DECODER_HIDDEN_DIM]\n",
    "        \n",
    "        encoder_output = encoder_output.permute(1, 0, 2)\n",
    "        # encoder_output- shape : [batch_size, sequence_len, ENCODER_HIDDEN_DIM*2]\n",
    "        \n",
    "        # concatenate encoder's output and decoder's hidden state\n",
    "        # and feed into a neural network layer\n",
    "        concat = torch.cat((encoder_output, decoder_hidden), dim=2)\n",
    "        # shape- [batch_size, sequence_len, (ENCODER_HIDDEN_DIM*2) + DECODER_HIDDEN_DIM], [batch_size, sequence_len, 3000]\n",
    "        \n",
    "        # input shape: [batch_size, sequence_len, (ENCODER_HIDDEN_DIM*2) + DECODER_HIDDEN_DIM]\n",
    "        fc1 = self.fc1(concat)\n",
    "        # output: [batch_size, sequence_len, DECODER_HIDDEN_DIM]\n",
    "        \n",
    "        fc1 = torch.tanh(fc1)\n",
    "        # output: [batch_size, sequence_len, DECODER_HIDDEN_DIM]     \n",
    "        \n",
    "        fc2 = self.fc2(fc1)\n",
    "        # output: [batch_size, sequence_len, 1]\n",
    "        \n",
    "        alpha = F.softmax(fc2, dim=1)\n",
    "        # output: [batch_size, sequence_len, 1]\n",
    "        \n",
    "        # attention vector to take the weighted sum of the encoder hidden state.\n",
    "        alpha=alpha.permute(0, 2, 1)\n",
    "        # alpha shape:            [batch_size, 1, sequence_len]\n",
    "        # encoder_output- shape : [batch_size, sequence_len, ENCODER_HIDDEN_DIM*2]\n",
    "        # https://pytorch.org/docs/stable/generated/torch.bmm.html\n",
    "        \n",
    "        a=alpha@encoder_output     # multiplying all the words in each sequence, from 1..N, wher N=sequence len.\n",
    "        # [batch_size, 1, sequence_len] * [batch_size, sequence_len, ENCODER_HIDDEN_DIM*2]\n",
    "        # attention- shape : [batch_size, 1, ENCODER_HIDDEN_DIM*2]\n",
    "        \n",
    "        return a"
   ]
  },
  {
   "cell_type": "code",
   "execution_count": 10,
   "metadata": {},
   "outputs": [],
   "source": [
    "class Decoder(nn.Module):\n",
    "    def __init__(self, EMBEDDING_DIM, EMBEDDING_SIZE_SPANISH, ENCODER_HIDDEN_DIM, DECODER_HIDDEN_DIM):\n",
    "        super(Decoder, self).__init__()\n",
    "        \n",
    "        self.embedding_dim = EMBEDDING_DIM\n",
    "        self.embedding_size_spanish = EMBEDDING_SIZE_SPANISH\n",
    "        self.hidden_dim = DECODER_HIDDEN_DIM\n",
    "        self.encoder_hidden_dim = ENCODER_HIDDEN_DIM\n",
    "        self.decoder_hidden_dim = DECODER_HIDDEN_DIM\n",
    "        \n",
    "        self.attention = Attention(self.decoder_hidden_dim, self.encoder_hidden_dim)\n",
    "        \n",
    "        self.embedding = nn.Embedding( self.embedding_size_spanish , self.embedding_dim)\n",
    "\n",
    "        self.rnn = nn.RNN((self.encoder_hidden_dim*2)+self.embedding_dim, self.hidden_dim, bidirectional = False)\n",
    "\n",
    "        self.linear = nn.Linear(self.embedding_dim+(self.encoder_hidden_dim*2)+self.decoder_hidden_dim, self.embedding_size_spanish)\n",
    "        \n",
    "    def forward(self, target_lang, encoder_output, decoder_hidden):\n",
    "                \n",
    "        # input shape: [BATCH_SIZE]\n",
    "        embeds = self.embedding(target_lang)\n",
    "        # embeds shape: [BATCH_SIZE, EMBEDDING_DIM]\n",
    "        \n",
    "        # attention layer - get the context vector from the attention layer.\n",
    "        # encoder_output: [sequence_len, batch_size, ENCODER_HIDDEN_DIM*2]\n",
    "        # decoder_hidden: [batch_size, DECODER_HIDDEN_DIM]\n",
    "        a = self.attention(encoder_output, decoder_hidden)\n",
    "        # attention shape: [BATCH_SIZE, 1, ENCODER_HIDDEN_DIM*2]\n",
    "        \n",
    "        ### concatenate convext vector, \"embeds\" and attention output, \"a\".\n",
    "        \n",
    "        # expand 1 dim for embeds\n",
    "        #input shape: [BATCH_SIZE, EMBEDDING_DIM]\n",
    "        embeds = embeds.unsqueeze(0)\n",
    "        #output shape: [1, BATCH_SIZE, EMBEDDING_DIM]\n",
    "\n",
    "        # change the shape of context vector.\n",
    "        # input shape:  [BATCH_SIZE, 1, ENCODER_HIDDEN_DIM*2]\n",
    "        a = a.permute(1, 0, 2)\n",
    "        # output shape: [1, BATCH_SIZE, ENCODER_HIDDEN_DIM*2]\n",
    "            \n",
    "        x = torch.cat((embeds, a), dim=2)\n",
    "        # output shape: [1, BATCH_SIZE, ENCODER_HIDDEN_DIM*2+EMBEDDING_DIM] i.e. [1, 16, 2030]\n",
    "        \n",
    "        # input shape: [1, BATCH_SIZE, ENCODER_HIDDEN_DIM*2+EMBEDDING_DIM]\n",
    "        rnn_dec, decoder_hidden = self.rnn(x)\n",
    "        #rnn_dec, decoder_hidden = self.rnn(x, decoder_hidden.unsqueeze(0))\n",
    "        # rnn_dec shape: [1, BATCH_SIZE, DECODER_HIDDEN_DIM], *1 since it is not bidirectional.\n",
    "        # hidden.shape: [1, BATCH_SIZE, DECODER_HIDDEN_DIM], hidden[0] = 1, since it is not bidirectional.\n",
    "        \n",
    "        # prediction\n",
    "        # input to the nn: embeds, a, rnn_dec\n",
    "        # embeds output shape:    [1, BATCH_SIZE, EMBEDDING_DIM]\n",
    "        # attention output shape: [1, BATCH_SIZE, ENCODER_HIDDEN_DIM*2]\n",
    "        # rnn_dec shape:          [1, BATCH_SIZE, DECODER_HIDDEN_DIM]\n",
    "        \n",
    "        c1=torch.cat((rnn_dec, a, embeds), dim=2)\n",
    "        # c1 shape: [1, BATCH_SIZE, EMBEDDING_DIM+(ENCODER_HIDDEN_DIM*2)+DECODER_HIDDEN_DIM]\n",
    "        \n",
    "        pred = self.linear(c1).squeeze(0)\n",
    "        # [BATCH_SIZE, EMBEDDING_SIZE_SPANISH]\n",
    "        \n",
    "        return pred, decoder_hidden.squeeze(0)"
   ]
  },
  {
   "cell_type": "code",
   "execution_count": 11,
   "metadata": {},
   "outputs": [],
   "source": [
    "# encoder model\n",
    "model = Encoder(EMBEDDING_DIM, EMBEDDING_SIZE_ENGLISH, ENCODER_HIDDEN_DIM, DECODER_HIDDEN_DIM)\n",
    "model.to(device)\n",
    "\n",
    "model_attn = Attention(DECODER_HIDDEN_DIM, ENCODER_HIDDEN_DIM)\n",
    "model_attn.to(device)\n",
    "\n",
    "model_decoder = Decoder(EMBEDDING_DIM, EMBEDDING_SIZE_SPANISH, ENCODER_HIDDEN_DIM, DECODER_HIDDEN_DIM)\n",
    "model_decoder.to(device)\n",
    "\n",
    "optimizer = optim.Adam(model.parameters(), lr = 0.001)\n",
    "\n",
    "loss_function = nn.CrossEntropyLoss()\n"
   ]
  },
  {
   "cell_type": "code",
   "execution_count": 97,
   "metadata": {
    "scrolled": false
   },
   "outputs": [
    {
     "name": "stdout",
     "output_type": "stream",
     "text": [
      "epoch: 1, loss: 154.4755\n",
      "epoch: 2, loss: 151.9533\n",
      "epoch: 3, loss: 149.7018\n",
      "epoch: 4, loss: 146.6611\n",
      "epoch: 5, loss: 144.0549\n",
      "epoch: 6, loss: 143.0414\n",
      "epoch: 7, loss: 142.5171\n",
      "epoch: 8, loss: 142.1410\n",
      "epoch: 9, loss: 141.8456\n",
      "epoch: 10, loss: 141.4960\n"
     ]
    }
   ],
   "source": [
    "for epochs in range(EPOCHS):\n",
    "    total_loss = 0\n",
    "    model.to(device)\n",
    "    for i in range(0, len(english_tokenized_tensor), BATCH_SIZE):\n",
    "        english_batch = english_tokenized_tensor[i:i+BATCH_SIZE] \n",
    "        spanish_batch = spanish_tokenized_tensor[i:i+BATCH_SIZE] \n",
    "\n",
    "        en, es = padding(english_batch, spanish_batch) # shape : [sequence_length, batch_size]\n",
    "\n",
    "        en = en.to(device)\n",
    "        es = es.to(device)\n",
    "\n",
    "        encoder_output, enc_hidden = model(en)\n",
    "        \n",
    "        decoder_hidden = enc_hidden    # need to change this somehow.\n",
    "        \n",
    "        #outputs = torch.zeros(MAX_SENTENCE_LENGTH, BATCH_SIZE, EMBEDDING_SIZE_SPANISH).to(device)\n",
    "        outputs=[]\n",
    "        spanish = es[0, :]\n",
    "        \n",
    "        # feed the target sentence, one by one word\n",
    "        for i in range(MAX_SENTENCE_LENGTH):\n",
    "            \n",
    "            # at each loop, 1st word of every 16 batches (sentences) will be fed into the decoder.\n",
    "            \n",
    "            output, decoder_hidden = model_decoder(spanish, encoder_output, decoder_hidden)\n",
    "            # output shape:         [BATCH_SIZE, EMBEDDING_SIZE_SPANISH]\n",
    "            # decoder_hidden shape: [BATCH_SIZE, DECODER_HIDDEN_DIM]\n",
    "            \n",
    "            spanish = output.argmax(1)\n",
    "            # spanish shape: [BATCH_SIZE]\n",
    "            \n",
    "            outputs.append(output)\n",
    "            # outputs shape: [sequence_length, BATCH_SIZE, EMBEDDING_SIZE_SPANISH]\n",
    "        \n",
    "        outputs = torch.stack(outputs)\n",
    "        # outputs shape: [sequence_length, BATCH_SIZE, EMBEDDING_SIZE_SPANISH]\n",
    "        \n",
    "        prediction = outputs.reshape(-1, EMBEDDING_SIZE_SPANISH)\n",
    "        # shape: [sequence_length*BATCH_SIZE, EMBEDDING_SIZE_SPANISH]\n",
    "        #print(prediction.shape)\n",
    "        actual = es.reshape(-1)\n",
    "        # shape: [sequence_length*BATCH_SIZE]\n",
    "        \n",
    "        l = loss_function(prediction, actual)\n",
    "        total_loss += l\n",
    "        optimizer.zero_grad() \n",
    "        l.backward() \n",
    "        optimizer.step()\n",
    "        \n",
    "    print('epoch: %d, loss: %.4f' % ((epochs+1), total_loss))"
   ]
  },
  {
   "cell_type": "markdown",
   "metadata": {},
   "source": [
    "https://www.youtube.com/watch?v=StOFwSRBwMo&t=315s&ab_channel=MinsukHeo%ED%97%88%EB%AF%BC%EC%84%9D\n",
    "https://colab.research.google.com/github/tensorflow/tensorflow/blob/r1.9/tensorflow/contrib/eager/python/examples/nmt_with_attention/nmt_with_attention.ipynb#scrollTo=ddefjBMa3jF0\n",
    "https://github.com/bentrevett/pytorch-seq2seq/blob/master/3%20-%20Neural%20Machine%20Translation%20by%20Jointly%20Learning%20to%20Align%20and%20Translate.ipynb"
   ]
  },
  {
   "cell_type": "code",
   "execution_count": 15,
   "metadata": {},
   "outputs": [
    {
     "ename": "RuntimeError",
     "evalue": "CUDA out of memory. Tried to allocate 20.00 MiB (GPU 0; 4.00 GiB total capacity; 2.69 GiB already allocated; 11.74 MiB free; 2.81 GiB reserved in total by PyTorch)",
     "output_type": "error",
     "traceback": [
      "\u001b[1;31m---------------------------------------------------------------------------\u001b[0m",
      "\u001b[1;31mRuntimeError\u001b[0m                              Traceback (most recent call last)",
      "\u001b[1;32m<ipython-input-15-da4f5fbc9ec9>\u001b[0m in \u001b[0;36m<module>\u001b[1;34m\u001b[0m\n\u001b[0;32m      1\u001b[0m \u001b[1;32mfor\u001b[0m \u001b[0mepochs\u001b[0m \u001b[1;32min\u001b[0m \u001b[0mrange\u001b[0m\u001b[1;33m(\u001b[0m\u001b[0mEPOCHS\u001b[0m\u001b[1;33m)\u001b[0m\u001b[1;33m:\u001b[0m\u001b[1;33m\u001b[0m\u001b[1;33m\u001b[0m\u001b[0m\n\u001b[0;32m      2\u001b[0m     \u001b[0mtotal_loss\u001b[0m \u001b[1;33m=\u001b[0m \u001b[1;36m0\u001b[0m\u001b[1;33m\u001b[0m\u001b[1;33m\u001b[0m\u001b[0m\n\u001b[1;32m----> 3\u001b[1;33m     \u001b[0mmodel\u001b[0m\u001b[1;33m.\u001b[0m\u001b[0mto\u001b[0m\u001b[1;33m(\u001b[0m\u001b[0mdevice\u001b[0m\u001b[1;33m)\u001b[0m\u001b[1;33m\u001b[0m\u001b[1;33m\u001b[0m\u001b[0m\n\u001b[0m\u001b[0;32m      4\u001b[0m     \u001b[1;32mfor\u001b[0m \u001b[0mi\u001b[0m \u001b[1;32min\u001b[0m \u001b[0mrange\u001b[0m\u001b[1;33m(\u001b[0m\u001b[1;36m0\u001b[0m\u001b[1;33m,\u001b[0m \u001b[0mlen\u001b[0m\u001b[1;33m(\u001b[0m\u001b[0menglish_tokenized_tensor\u001b[0m\u001b[1;33m)\u001b[0m\u001b[1;33m,\u001b[0m \u001b[0mBATCH_SIZE\u001b[0m\u001b[1;33m)\u001b[0m\u001b[1;33m:\u001b[0m\u001b[1;33m\u001b[0m\u001b[1;33m\u001b[0m\u001b[0m\n\u001b[0;32m      5\u001b[0m         \u001b[0menglish_batch\u001b[0m \u001b[1;33m=\u001b[0m \u001b[0menglish_tokenized_tensor\u001b[0m\u001b[1;33m[\u001b[0m\u001b[0mi\u001b[0m\u001b[1;33m:\u001b[0m\u001b[0mi\u001b[0m\u001b[1;33m+\u001b[0m\u001b[0mBATCH_SIZE\u001b[0m\u001b[1;33m]\u001b[0m\u001b[1;33m\u001b[0m\u001b[1;33m\u001b[0m\u001b[0m\n",
      "\u001b[1;32m~\\.conda\\envs\\pytorch\\lib\\site-packages\\torch\\nn\\modules\\module.py\u001b[0m in \u001b[0;36mto\u001b[1;34m(self, *args, **kwargs)\u001b[0m\n\u001b[0;32m    610\u001b[0m             \u001b[1;32mreturn\u001b[0m \u001b[0mt\u001b[0m\u001b[1;33m.\u001b[0m\u001b[0mto\u001b[0m\u001b[1;33m(\u001b[0m\u001b[0mdevice\u001b[0m\u001b[1;33m,\u001b[0m \u001b[0mdtype\u001b[0m \u001b[1;32mif\u001b[0m \u001b[0mt\u001b[0m\u001b[1;33m.\u001b[0m\u001b[0mis_floating_point\u001b[0m\u001b[1;33m(\u001b[0m\u001b[1;33m)\u001b[0m \u001b[1;32melse\u001b[0m \u001b[1;32mNone\u001b[0m\u001b[1;33m,\u001b[0m \u001b[0mnon_blocking\u001b[0m\u001b[1;33m)\u001b[0m\u001b[1;33m\u001b[0m\u001b[1;33m\u001b[0m\u001b[0m\n\u001b[0;32m    611\u001b[0m \u001b[1;33m\u001b[0m\u001b[0m\n\u001b[1;32m--> 612\u001b[1;33m         \u001b[1;32mreturn\u001b[0m \u001b[0mself\u001b[0m\u001b[1;33m.\u001b[0m\u001b[0m_apply\u001b[0m\u001b[1;33m(\u001b[0m\u001b[0mconvert\u001b[0m\u001b[1;33m)\u001b[0m\u001b[1;33m\u001b[0m\u001b[1;33m\u001b[0m\u001b[0m\n\u001b[0m\u001b[0;32m    613\u001b[0m \u001b[1;33m\u001b[0m\u001b[0m\n\u001b[0;32m    614\u001b[0m     def register_backward_hook(\n",
      "\u001b[1;32m~\\.conda\\envs\\pytorch\\lib\\site-packages\\torch\\nn\\modules\\module.py\u001b[0m in \u001b[0;36m_apply\u001b[1;34m(self, fn)\u001b[0m\n\u001b[0;32m    357\u001b[0m     \u001b[1;32mdef\u001b[0m \u001b[0m_apply\u001b[0m\u001b[1;33m(\u001b[0m\u001b[0mself\u001b[0m\u001b[1;33m,\u001b[0m \u001b[0mfn\u001b[0m\u001b[1;33m)\u001b[0m\u001b[1;33m:\u001b[0m\u001b[1;33m\u001b[0m\u001b[1;33m\u001b[0m\u001b[0m\n\u001b[0;32m    358\u001b[0m         \u001b[1;32mfor\u001b[0m \u001b[0mmodule\u001b[0m \u001b[1;32min\u001b[0m \u001b[0mself\u001b[0m\u001b[1;33m.\u001b[0m\u001b[0mchildren\u001b[0m\u001b[1;33m(\u001b[0m\u001b[1;33m)\u001b[0m\u001b[1;33m:\u001b[0m\u001b[1;33m\u001b[0m\u001b[1;33m\u001b[0m\u001b[0m\n\u001b[1;32m--> 359\u001b[1;33m             \u001b[0mmodule\u001b[0m\u001b[1;33m.\u001b[0m\u001b[0m_apply\u001b[0m\u001b[1;33m(\u001b[0m\u001b[0mfn\u001b[0m\u001b[1;33m)\u001b[0m\u001b[1;33m\u001b[0m\u001b[1;33m\u001b[0m\u001b[0m\n\u001b[0m\u001b[0;32m    360\u001b[0m \u001b[1;33m\u001b[0m\u001b[0m\n\u001b[0;32m    361\u001b[0m         \u001b[1;32mdef\u001b[0m \u001b[0mcompute_should_use_set_data\u001b[0m\u001b[1;33m(\u001b[0m\u001b[0mtensor\u001b[0m\u001b[1;33m,\u001b[0m \u001b[0mtensor_applied\u001b[0m\u001b[1;33m)\u001b[0m\u001b[1;33m:\u001b[0m\u001b[1;33m\u001b[0m\u001b[1;33m\u001b[0m\u001b[0m\n",
      "\u001b[1;32m~\\.conda\\envs\\pytorch\\lib\\site-packages\\torch\\nn\\modules\\rnn.py\u001b[0m in \u001b[0;36m_apply\u001b[1;34m(self, fn)\u001b[0m\n\u001b[0;32m    160\u001b[0m         \u001b[0mself\u001b[0m\u001b[1;33m.\u001b[0m\u001b[0m_flat_weights\u001b[0m \u001b[1;33m=\u001b[0m \u001b[1;33m[\u001b[0m\u001b[1;33m(\u001b[0m\u001b[1;32mlambda\u001b[0m \u001b[0mwn\u001b[0m\u001b[1;33m:\u001b[0m \u001b[0mgetattr\u001b[0m\u001b[1;33m(\u001b[0m\u001b[0mself\u001b[0m\u001b[1;33m,\u001b[0m \u001b[0mwn\u001b[0m\u001b[1;33m)\u001b[0m \u001b[1;32mif\u001b[0m \u001b[0mhasattr\u001b[0m\u001b[1;33m(\u001b[0m\u001b[0mself\u001b[0m\u001b[1;33m,\u001b[0m \u001b[0mwn\u001b[0m\u001b[1;33m)\u001b[0m \u001b[1;32melse\u001b[0m \u001b[1;32mNone\u001b[0m\u001b[1;33m)\u001b[0m\u001b[1;33m(\u001b[0m\u001b[0mwn\u001b[0m\u001b[1;33m)\u001b[0m \u001b[1;32mfor\u001b[0m \u001b[0mwn\u001b[0m \u001b[1;32min\u001b[0m \u001b[0mself\u001b[0m\u001b[1;33m.\u001b[0m\u001b[0m_flat_weights_names\u001b[0m\u001b[1;33m]\u001b[0m\u001b[1;33m\u001b[0m\u001b[1;33m\u001b[0m\u001b[0m\n\u001b[0;32m    161\u001b[0m         \u001b[1;31m# Flattens params (on CUDA)\u001b[0m\u001b[1;33m\u001b[0m\u001b[1;33m\u001b[0m\u001b[1;33m\u001b[0m\u001b[0m\n\u001b[1;32m--> 162\u001b[1;33m         \u001b[0mself\u001b[0m\u001b[1;33m.\u001b[0m\u001b[0mflatten_parameters\u001b[0m\u001b[1;33m(\u001b[0m\u001b[1;33m)\u001b[0m\u001b[1;33m\u001b[0m\u001b[1;33m\u001b[0m\u001b[0m\n\u001b[0m\u001b[0;32m    163\u001b[0m \u001b[1;33m\u001b[0m\u001b[0m\n\u001b[0;32m    164\u001b[0m         \u001b[1;32mreturn\u001b[0m \u001b[0mret\u001b[0m\u001b[1;33m\u001b[0m\u001b[1;33m\u001b[0m\u001b[0m\n",
      "\u001b[1;32m~\\.conda\\envs\\pytorch\\lib\\site-packages\\torch\\nn\\modules\\rnn.py\u001b[0m in \u001b[0;36mflatten_parameters\u001b[1;34m(self)\u001b[0m\n\u001b[0;32m    150\u001b[0m                         \u001b[0mself\u001b[0m\u001b[1;33m.\u001b[0m\u001b[0m_flat_weights\u001b[0m\u001b[1;33m,\u001b[0m \u001b[1;33m(\u001b[0m\u001b[1;36m4\u001b[0m \u001b[1;32mif\u001b[0m \u001b[0mself\u001b[0m\u001b[1;33m.\u001b[0m\u001b[0mbias\u001b[0m \u001b[1;32melse\u001b[0m \u001b[1;36m2\u001b[0m\u001b[1;33m)\u001b[0m\u001b[1;33m,\u001b[0m\u001b[1;33m\u001b[0m\u001b[1;33m\u001b[0m\u001b[0m\n\u001b[0;32m    151\u001b[0m                         \u001b[0mself\u001b[0m\u001b[1;33m.\u001b[0m\u001b[0minput_size\u001b[0m\u001b[1;33m,\u001b[0m \u001b[0mrnn\u001b[0m\u001b[1;33m.\u001b[0m\u001b[0mget_cudnn_mode\u001b[0m\u001b[1;33m(\u001b[0m\u001b[0mself\u001b[0m\u001b[1;33m.\u001b[0m\u001b[0mmode\u001b[0m\u001b[1;33m)\u001b[0m\u001b[1;33m,\u001b[0m \u001b[0mself\u001b[0m\u001b[1;33m.\u001b[0m\u001b[0mhidden_size\u001b[0m\u001b[1;33m,\u001b[0m \u001b[0mself\u001b[0m\u001b[1;33m.\u001b[0m\u001b[0mnum_layers\u001b[0m\u001b[1;33m,\u001b[0m\u001b[1;33m\u001b[0m\u001b[1;33m\u001b[0m\u001b[0m\n\u001b[1;32m--> 152\u001b[1;33m                         self.batch_first, bool(self.bidirectional))\n\u001b[0m\u001b[0;32m    153\u001b[0m \u001b[1;33m\u001b[0m\u001b[0m\n\u001b[0;32m    154\u001b[0m     \u001b[1;32mdef\u001b[0m \u001b[0m_apply\u001b[0m\u001b[1;33m(\u001b[0m\u001b[0mself\u001b[0m\u001b[1;33m,\u001b[0m \u001b[0mfn\u001b[0m\u001b[1;33m)\u001b[0m\u001b[1;33m:\u001b[0m\u001b[1;33m\u001b[0m\u001b[1;33m\u001b[0m\u001b[0m\n",
      "\u001b[1;31mRuntimeError\u001b[0m: CUDA out of memory. Tried to allocate 20.00 MiB (GPU 0; 4.00 GiB total capacity; 2.69 GiB already allocated; 11.74 MiB free; 2.81 GiB reserved in total by PyTorch)"
     ]
    }
   ],
   "source": [
    "for epochs in range(EPOCHS):\n",
    "    total_loss = 0\n",
    "    model.to(device)\n",
    "    for i in range(0, len(english_tokenized_tensor), BATCH_SIZE):\n",
    "        english_batch = english_tokenized_tensor[i:i+BATCH_SIZE] \n",
    "        spanish_batch = spanish_tokenized_tensor[i:i+BATCH_SIZE] \n",
    "\n",
    "        en, es = padding(english_batch, spanish_batch) # shape : [sequence_length, batch_size]\n",
    "\n",
    "        en = en.to(device)\n",
    "        es = es.to(device)\n",
    "\n",
    "        encoder_output, enc_hidden = model(en)\n",
    "        \n",
    "        decoder_hidden = enc_hidden    # need to change this somehow.\n",
    "        \n",
    "        #outputs = torch.zeros(MAX_SENTENCE_LENGTH, BATCH_SIZE, EMBEDDING_SIZE_SPANISH).to(device)\n",
    "        outputs=[]\n",
    "        spanish = es[0, :]\n",
    "        \n",
    "        # feed the target sentence, one by one word\n",
    "        for i in range(MAX_SENTENCE_LENGTH):\n",
    "            \n",
    "            # at each loop, 1st word of every 16 batches (sentences) will be fed into the decoder.\n",
    "            \n",
    "            output, decoder_hidden = model_decoder(spanish, encoder_output, decoder_hidden)\n",
    "            # output shape:         [BATCH_SIZE, EMBEDDING_SIZE_SPANISH]\n",
    "            # decoder_hidden shape: [BATCH_SIZE, DECODER_HIDDEN_DIM]\n",
    "            \n",
    "            spanish = output.argmax(1)\n",
    "            # spanish shape: [BATCH_SIZE]\n",
    "            \n",
    "            outputs.append(output)\n",
    "            # outputs shape: [sequence_length, BATCH_SIZE, EMBEDDING_SIZE_SPANISH]\n",
    "        \n",
    "        outputs = torch.stack(outputs)\n",
    "        # outputs shape: [sequence_length, BATCH_SIZE, EMBEDDING_SIZE_SPANISH]\n",
    "        \n",
    "        prediction = outputs.reshape(-1, EMBEDDING_SIZE_SPANISH)\n",
    "        # shape: [sequence_length*BATCH_SIZE, EMBEDDING_SIZE_SPANISH]\n",
    "        #print(prediction.shape)\n",
    "        actual = es.reshape(-1)\n",
    "        # shape: [sequence_length*BATCH_SIZE]\n",
    "        \n",
    "        l = loss_function(prediction, actual)\n",
    "        total_loss += l\n",
    "        optimizer.zero_grad() \n",
    "        l.backward() \n",
    "        optimizer.step()\n",
    "        \n",
    "    print('epoch: %d, loss: %.4f' % ((epochs+1), total_loss))"
   ]
  },
  {
   "cell_type": "code",
   "execution_count": null,
   "metadata": {},
   "outputs": [],
   "source": []
  }
 ],
 "metadata": {
  "kernelspec": {
   "display_name": "pytorch",
   "language": "python",
   "name": "pytorch"
  },
  "language_info": {
   "codemirror_mode": {
    "name": "ipython",
    "version": 3
   },
   "file_extension": ".py",
   "mimetype": "text/x-python",
   "name": "python",
   "nbconvert_exporter": "python",
   "pygments_lexer": "ipython3",
   "version": "3.7.4"
  }
 },
 "nbformat": 4,
 "nbformat_minor": 4
}
