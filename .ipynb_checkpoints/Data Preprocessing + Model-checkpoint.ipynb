{
 "cells": [
  {
   "cell_type": "code",
   "execution_count": 1,
   "metadata": {},
   "outputs": [],
   "source": [
    "import os\n",
    "import re"
   ]
  },
  {
   "cell_type": "code",
   "execution_count": 2,
   "metadata": {},
   "outputs": [],
   "source": [
    "DIR_path = \"D:\\MSc Data Science\\Advanced Modules\\[INF-DSAM1B] Advanced Machine Learning B\\Deep learning for NLP\\Project\\Machine translation with attention\"\n",
    "english_data_path = \"Data\\\\es-en\"\n",
    "spanish_data_path = \"Data\\\\es-en\""
   ]
  },
  {
   "cell_type": "code",
   "execution_count": 3,
   "metadata": {},
   "outputs": [],
   "source": [
    "# 'utf-8' removes b'' character string literal\n",
    "# splitlines() remove newline character\n",
    "with open(os.path.join(DIR_path, english_data_path, \"europarl-v7.es-en.en\"), \"rb\") as f:\n",
    "    content_english = f.read().decode(\"utf-8\").splitlines()\n"
   ]
  },
  {
   "cell_type": "code",
   "execution_count": 4,
   "metadata": {},
   "outputs": [],
   "source": [
    "with open(os.path.join(DIR_path, spanish_data_path, \"europarl-v7.es-en.es\"), \"rb\") as f:\n",
    "    content_spanish = f.read().decode(\"utf-8\").splitlines()"
   ]
  },
  {
   "cell_type": "code",
   "execution_count": 5,
   "metadata": {},
   "outputs": [],
   "source": [
    "def sent_preprocess(sentence):\n",
    "    sentence=sentence.lower()             \n",
    "    sentence = re.sub(r\"[-,.!?()]+\", r\"\", sentence)\n",
    "    return sentence\n",
    "\n",
    "_patterns = [r'\\'',\n",
    "             r'\\\"',\n",
    "             r'\\.',\n",
    "             r'<br \\/>',\n",
    "             r',',\n",
    "             r'\\(',\n",
    "             r'\\)',\n",
    "             r'\\!',\n",
    "             r'\\?',\n",
    "             r'\\;',\n",
    "             r'\\:',\n",
    "             r'\\s+']\n",
    "\n",
    "_replacements = [' \\'  ',\n",
    "                 '',\n",
    "                 ' . ',\n",
    "                 ' ',\n",
    "                 ' , ',\n",
    "                 ' ( ',\n",
    "                 ' ) ',\n",
    "                 ' ! ',\n",
    "                 ' ? ',\n",
    "                 ' ',\n",
    "                 ' ',\n",
    "                 ' ']\n",
    "\n",
    "_patterns_dict = list((re.compile(p), r) for p, r in zip(_patterns, _replacements))\n",
    "\n",
    "def sentence_preprocess(sentence):\n",
    "    \"\"\"https://pytorch.org/text/_modules/torchtext/data/utils.html\"\"\"\n",
    "    sentence = sentence.lower()\n",
    "    for pattern_re, replaced_str in _patterns_dict:\n",
    "        sentence = pattern_re.sub(replaced_str, sentence)\n",
    "    \n",
    "    return sentence"
   ]
  },
  {
   "cell_type": "code",
   "execution_count": 6,
   "metadata": {},
   "outputs": [
    {
     "name": "stdout",
     "output_type": "stream",
     "text": [
      "total english sentences:  1965734\n"
     ]
    }
   ],
   "source": [
    "# preprocess the english sentence\n",
    "sentence_english = []\n",
    "for sent in content_english:\n",
    "    sentence_english.append(sentence_preprocess(sent))\n",
    "print(\"total english sentences: \", len(sentence_english))"
   ]
  },
  {
   "cell_type": "code",
   "execution_count": 7,
   "metadata": {},
   "outputs": [
    {
     "name": "stdout",
     "output_type": "stream",
     "text": [
      "total spanish sentences:  1965734\n"
     ]
    }
   ],
   "source": [
    "# preprocess the spanish sentence\n",
    "sentence_spanish = []\n",
    "for sent in content_spanish:\n",
    "    sentence_spanish.append(sentence_preprocess(sent))\n",
    "print(\"total spanish sentences: \", len(sentence_spanish))"
   ]
  },
  {
   "cell_type": "markdown",
   "metadata": {},
   "source": [
    "### Tokenize the data"
   ]
  },
  {
   "cell_type": "code",
   "execution_count": 8,
   "metadata": {},
   "outputs": [],
   "source": [
    "import torch\n",
    "import torch.nn as nn\n",
    "import torch.nn.functional as F\n",
    "import torch.optim as optim\n",
    "import nltk\n",
    "from tqdm import tqdm\n",
    "import pickle"
   ]
  },
  {
   "cell_type": "code",
   "execution_count": 9,
   "metadata": {},
   "outputs": [
    {
     "name": "stderr",
     "output_type": "stream",
     "text": [
      "100%|██████████████████████████████████████████████████████████████████████████████| 500/500 [00:00<00:00, 4774.61it/s]\n"
     ]
    }
   ],
   "source": [
    "# Loop over wach of the sentence and tokenize eacch sentenec separately.\n",
    "# will take some time to tokenize each sentence.\n",
    "english_tokenized_text = [ nltk.word_tokenize(sentence_english[i], language=\"english\") for i in tqdm(range(len(sentence_english[:500]))) ]\n",
    "\n",
    "# create word index\n",
    "# assign each word a number.\n",
    "word_to_index_eng = {}\n",
    "words=[]\n",
    "for sentence in english_tokenized_text:\n",
    "    for word in sentence:\n",
    "        words.append(word)\n",
    "UNIQUE_WORDS = set(words)\n",
    "\n",
    "for index, word in enumerate(UNIQUE_WORDS):\n",
    "    word_to_index_eng[word] = index\n",
    "\n",
    "# add tokens: <SOS> and <EOS>\n",
    "word_to_index_eng[\"<SOS>\"] = list(word_to_index_eng.values())[-1] + 1\n",
    "word_to_index_eng[\"<EOS>\"] = list(word_to_index_eng.values())[-1] + 1\n",
    "\n",
    "# using word index, create tensor\n",
    "# convert each of the sentence into numbers.\n",
    "english_tokenized_tensor = []\n",
    "\n",
    "for sentence in english_tokenized_text:\n",
    "    #english_tokenized_tensor.append( [word_to_index[word] for word in sentence]  )\n",
    "    tensor_list=[]\n",
    "    tensor_list.append(word_to_index_eng[\"<SOS>\"])\n",
    "    tensor_list = tensor_list + [word_to_index_eng[word] for word in sentence]\n",
    "    tensor_list.append(word_to_index_eng[\"<EOS>\"])\n",
    "\n",
    "    english_tokenized_tensor.append(torch.tensor(tensor_list, dtype=torch.long))"
   ]
  },
  {
   "cell_type": "code",
   "execution_count": 10,
   "metadata": {},
   "outputs": [
    {
     "name": "stderr",
     "output_type": "stream",
     "text": [
      "100%|██████████████████████████████████████████████████████████████████████████████| 500/500 [00:00<00:00, 4597.97it/s]\n"
     ]
    }
   ],
   "source": [
    "# Loop over wach of the sentence and tokenize eacch sentenec separately.\n",
    "# will take some time to tokenize each sentence.\n",
    "spanish_tokenized_text = [ nltk.word_tokenize(sentence_spanish[i], language=\"spanish\") for i in tqdm(range(len(sentence_spanish[:500]))) ]\n",
    "\n",
    "# create word index\n",
    "# assign each word a number.\n",
    "word_to_index_spanish = {}\n",
    "words=[]\n",
    "for sentence in spanish_tokenized_text:\n",
    "    for word in sentence:\n",
    "        words.append(word)\n",
    "UNIQUE_WORDS = set(words)\n",
    "\n",
    "for index, word in enumerate(UNIQUE_WORDS):\n",
    "    word_to_index_spanish[word] = index\n",
    "\n",
    "# add tokens: <SOS> and <EOS>\n",
    "word_to_index_spanish[\"<SOS>\"] = list(word_to_index_spanish.values())[-1] + 1\n",
    "word_to_index_spanish[\"<EOS>\"] = list(word_to_index_spanish.values())[-1] + 1\n",
    "\n",
    "# using word index, create tensor\n",
    "# convert each of the sentence into numbers.\n",
    "spanish_tokenized_tensor = []\n",
    "\n",
    "for sentence in spanish_tokenized_text:\n",
    "    \n",
    "    tensor_list=[]\n",
    "    tensor_list.append(word_to_index_spanish[\"<SOS>\"])\n",
    "    tensor_list = tensor_list + [word_to_index_spanish[word] for word in sentence]\n",
    "    tensor_list.append(word_to_index_spanish[\"<EOS>\"])\n",
    "    spanish_tokenized_tensor.append(torch.tensor(tensor_list, dtype=torch.long))\n"
   ]
  },
  {
   "cell_type": "markdown",
   "metadata": {},
   "source": [
    "# Model"
   ]
  },
  {
   "cell_type": "code",
   "execution_count": 11,
   "metadata": {},
   "outputs": [],
   "source": [
    "# For cuda.\n",
    "device = torch.device('cuda' if torch.cuda.is_available() else 'cpu')"
   ]
  },
  {
   "cell_type": "code",
   "execution_count": 18,
   "metadata": {},
   "outputs": [],
   "source": [
    "BATCH_SIZE = 16\n",
    "MAX_SENTENCE_LENGTH = 50\n",
    "EMBEDDING_DIM = 30\n",
    "ENCODER_HIDDEN_DIM = 1000\n",
    "DECODER_HIDDEN_DIM = 1000\n",
    "EPOCHS = 1\n",
    "\n",
    "EMBEDDING_SIZE_ENGLISH = len(word_to_index_eng)\n",
    "EMBEDDING_SIZE_SPANISH = len(word_to_index_spanish)"
   ]
  },
  {
   "cell_type": "code",
   "execution_count": 13,
   "metadata": {},
   "outputs": [],
   "source": [
    "def padding(english_tokenized_tensor, spanish_tokenized_tensor):\n",
    "    \n",
    "    spanish_batch=[]\n",
    "    for batch in spanish_tokenized_tensor:\n",
    "        if(len(batch) > MAX_SENTENCE_LENGTH):\n",
    "            batch = batch[0:MAX_SENTENCE_LENGTH]\n",
    "        if( (MAX_SENTENCE_LENGTH - batch.shape[0]) != 0 ) :\n",
    "            spanish_batch.append(torch.cat((batch, torch.LongTensor([0]).repeat(MAX_SENTENCE_LENGTH - len(batch))), dim=0) )\n",
    "        else:\n",
    "            spanish_batch.append(batch)\n",
    "       \n",
    "    english_batch=[]\n",
    "    for batch in english_tokenized_tensor:\n",
    "        # only consider top 50 words in each sentences.\n",
    "        if(len(batch) > MAX_SENTENCE_LENGTH):\n",
    "            batch = batch[0:MAX_SENTENCE_LENGTH]\n",
    "        if( (MAX_SENTENCE_LENGTH - batch.shape[0]) != 0 ) :\n",
    "            english_batch.append(torch.cat((batch, torch.LongTensor([0]).repeat(MAX_SENTENCE_LENGTH - len(batch))), dim=0) )\n",
    "        else:\n",
    "            english_batch.append(batch)\n",
    "\n",
    "    # the first element of the batchholds the first elements of every sequence in the batch. \n",
    "    # the second element of the batch is going to hold the second element of every sequence in the batch, and so on.\n",
    "    # shape : [sequence_length, batch_size]\n",
    "    spanish_batch = torch.transpose(torch.stack(spanish_batch), 0, 1)\n",
    "    english_batch = torch.transpose(torch.stack(english_batch), 0, 1)\n",
    "    \n",
    "    return english_batch, spanish_batch"
   ]
  },
  {
   "cell_type": "code",
   "execution_count": 328,
   "metadata": {},
   "outputs": [],
   "source": [
    "class Encoder(nn.Module):\n",
    "    def __init__(self, EMBEDDING_DIM, EMBEDDING_SIZE_ENGLISH, ENCODER_HIDDEN_DIM, DECODER_HIDDEN_DIM):\n",
    "        super(Encoder, self).__init__()\n",
    "\n",
    "        self.embedding_dim = EMBEDDING_DIM\n",
    "        self.embedding_size_english = EMBEDDING_SIZE_ENGLISH\n",
    "        self.hidden_dim = ENCODER_HIDDEN_DIM\n",
    "\n",
    "        self.embedding = nn.Embedding( self.embedding_size_english , self.embedding_dim)\n",
    "\n",
    "        self.rnn = nn.RNN(self.embedding_dim, self.hidden_dim, bidirectional =True)\n",
    "\n",
    "        self.linear = nn.Linear(self.hidden_dim*2, DECODER_HIDDEN_DIM)\n",
    "\n",
    "    def forward(self, inputs):\n",
    "        # WRITE CODE HERE\n",
    "        # input : [sequence_len, batch_size]\n",
    "        embeds = self.embedding(inputs)\n",
    "        # https://stackoverflow.com/questions/49466894/how-to-correctly-give-inputs-to-embedding-lstm-and-linear-layers-in-pytorch\n",
    "        # output of the embedding is [seq_len, batch_size, embedding_size]\n",
    "\n",
    "        #input: [seq_len, batch_size, embedding_size]\n",
    "        rnn_enc, hidden = self.rnn(embeds)\n",
    "        # rnn out shape : [sequence_len, batch_size, ENCODER_HIDDEN_DIM*2]\n",
    "        # hidden shape   : [2, batch_size, ENCODER_HIDDEN_DIM]\n",
    "\n",
    "        # concatenate both forward and backward hidden vectors\n",
    "        hidden_f_b = torch.cat((hidden[0,:,:], hidden[1,:,:]), dim = 1)\n",
    "        # output shape: [batch_size, ENCODER_HIDDEN_DIM*2]\n",
    "\n",
    "        # input: [batch_size, ENCODER_HIDDEN_DIM*2]\n",
    "        hidden_enc = self.linear(hidden_f_b)\n",
    "        # output: [batch_size, DECODER_HIDDEN_DIM]\n",
    "\n",
    "        hidden_enc = torch.tanh(hidden_enc)\n",
    "\n",
    "        return rnn_enc, hidden_enc"
   ]
  },
  {
   "cell_type": "code",
   "execution_count": 329,
   "metadata": {},
   "outputs": [],
   "source": [
    "class Attention(nn.Module):\n",
    "    def __init__(self, DECODER_HIDDEN_DIM, ENCODER_HIDDEN_DIM):\n",
    "        super(Attention, self).__init__()\n",
    "\n",
    "        self.fc1 = nn.Linear((ENCODER_HIDDEN_DIM*2) + DECODER_HIDDEN_DIM, DECODER_HIDDEN_DIM)\n",
    "        self.fc2 = nn.Linear(DECODER_HIDDEN_DIM, 1)\n",
    "        \n",
    "        \n",
    "    def forward(self, encoder_output, decoder_hidden):\n",
    "        # WRITE CODE HERE\n",
    "\n",
    "        # encoder_output shape : [sequence_len, batch_size, ENCODER_HIDDEN_DIM*2]\n",
    "        # decoder_hidden shape : [batch_size, DECODER_HIDDEN_DIM]\n",
    "\n",
    "        # repeat decoder hidden state sequence_len Time's.       \n",
    "        # input shape : [batch_size, DECODER_HIDDEN_DIM]\n",
    "        decoder_hidden = torch.unsqueeze(decoder_hidden, 1)\n",
    "        # output shape: [batch_size, 1, DECODER_HIDDEN_DIM]\n",
    "        \n",
    "        decoder_hidden = decoder_hidden.repeat(1, encoder_output.shape[0], 1)\n",
    "        # [batch_size, sequence_len, DECODER_HIDDEN_DIM]\n",
    "        \n",
    "        encoder_output = encoder_output.permute(1, 0, 2)\n",
    "        # encoder_output- shape : [batch_size, sequence_len, ENCODER_HIDDEN_DIM*2]\n",
    "        \n",
    "        # concatenate encoder's output and decoder's hidden state\n",
    "        # and feed into a neural network layer\n",
    "        concat = torch.cat((encoder_output, decoder_hidden), dim=2)\n",
    "        # shape- [batch_size, sequence_len, (ENCODER_HIDDEN_DIM*2) + DECODER_HIDDEN_DIM], [batch_size, sequence_len, 3000]\n",
    "        \n",
    "        # input shape: [batch_size, sequence_len, (ENCODER_HIDDEN_DIM*2) + DECODER_HIDDEN_DIM]\n",
    "        fc1 = self.fc1(concat)\n",
    "        # output: [batch_size, sequence_len, DECODER_HIDDEN_DIM]\n",
    "        \n",
    "        fc1 = torch.tanh(fc1)\n",
    "        # output: [batch_size, sequence_len, DECODER_HIDDEN_DIM]     \n",
    "        \n",
    "        fc2 = self.fc2(fc1)\n",
    "        # output: [batch_size, sequence_len, 1]\n",
    "        \n",
    "        alpha = F.softmax(fc2, dim=1)\n",
    "        # output: [batch_size, sequence_len, 1]\n",
    "        \n",
    "        # attention vector to take the weighted sum of the encoder hidden state.\n",
    "        alpha=alpha.permute(0, 2, 1)\n",
    "        # alpha shape:            [batch_size, 1, sequence_len]\n",
    "        # encoder_output- shape : [batch_size, sequence_len, ENCODER_HIDDEN_DIM*2]\n",
    "        # https://pytorch.org/docs/stable/generated/torch.bmm.html\n",
    "        \n",
    "        a=alpha@encoder_output     # multiplying all the words in each sequence, from 1..N, wher N=sequence len.\n",
    "        # [batch_size, 1, sequence_len] * [batch_size, sequence_len, ENCODER_HIDDEN_DIM*2]\n",
    "        # attention- shape : [batch_size, 1, ENCODER_HIDDEN_DIM*2]\n",
    "        \n",
    "        return a"
   ]
  },
  {
   "cell_type": "code",
   "execution_count": 333,
   "metadata": {},
   "outputs": [],
   "source": [
    "class Decoder(nn.Module):\n",
    "    def __init__(self, EMBEDDING_DIM, EMBEDDING_SIZE_SPANISH, ENCODER_HIDDEN_DIM, DECODER_HIDDEN_DIM):\n",
    "        super(Decoder, self).__init__()\n",
    "        \n",
    "        \n",
    "        self.embedding_dim = EMBEDDING_DIM\n",
    "        self.embedding_size_spanish = EMBEDDING_SIZE_SPANISH\n",
    "        self.hidden_dim = DECODER_HIDDEN_DIM\n",
    "        self.encoder_hidden_dim = ENCODER_HIDDEN_DIM\n",
    "        self.decoder_hidden_dim = DECODER_HIDDEN_DIM\n",
    "        \n",
    "        self.attention = Attention(self.decoder_hidden_dim, self.encoder_hidden_dim)\n",
    "        \n",
    "        self.embedding = nn.Embedding( self.embedding_size_spanish , self.embedding_dim)\n",
    "\n",
    "        self.rnn = nn.RNN((self.encoder_hidden_dim*2)+self.embedding_dim, self.hidden_dim, bidirectional = False)\n",
    "\n",
    "        self.linear = nn.Linear(self.embedding_dim+(self.encoder_hidden_dim*2)+self.decoder_hidden_dim, self.embedding_size_spanish)\n",
    "        \n",
    "    def forward(self, target_lang, encoder_output, decoder_hidden):\n",
    "                \n",
    "        # input shape: [BATCH_SIZE]\n",
    "        embeds = self.embedding(target_lang)\n",
    "        # embeds shape: [BATCH_SIZE, EMBEDDING_DIM]\n",
    "        \n",
    "        # attention layer - get the context vector from the attention layer.\n",
    "        # encoder_output: [sequence_len, batch_size, ENCODER_HIDDEN_DIM*2]\n",
    "        # decoder_hidden: [batch_size, DECODER_HIDDEN_DIM]\n",
    "        a = self.attention(encoder_output, decoder_hidden)\n",
    "        # attention shape: [BATCH_SIZE, 1, ENCODER_HIDDEN_DIM*2]\n",
    "        \n",
    "        ### concatenate convext vector, \"embeds\" and attention output, \"a\".\n",
    "        \n",
    "        # expand 1 dim for embeds\n",
    "        #input shape: [BATCH_SIZE, EMBEDDING_DIM]\n",
    "        embeds = embeds.unsqueeze(0)\n",
    "        #output shape: [1, BATCH_SIZE, EMBEDDING_DIM]\n",
    "\n",
    "        # change the shape of context vector.\n",
    "        # input shape:  [BATCH_SIZE, 1, ENCODER_HIDDEN_DIM*2]\n",
    "        a = a.permute(1, 0, 2)\n",
    "        # output shape: [1, BATCH_SIZE, ENCODER_HIDDEN_DIM*2]\n",
    "            \n",
    "        x = torch.cat((embeds, a), dim=2)\n",
    "        # output shape: [1, BATCH_SIZE, ENCODER_HIDDEN_DIM*2+EMBEDDING_DIM] i.e. [1, 16, 2030]\n",
    "        \n",
    "        # input shape: [1, BATCH_SIZE, ENCODER_HIDDEN_DIM*2+EMBEDDING_DIM]\n",
    "        rnn_dec, decoder_hidden = self.rnn(x)\n",
    "        #rnn_dec, decoder_hidden = self.rnn(x, decoder_hidden.unsqueeze(0))\n",
    "        # rnn_dec shape: [1, BATCH_SIZE, DECODER_HIDDEN_DIM], *1 since it is not bidirectional.\n",
    "        # hidden.shape: [1, BATCH_SIZE, DECODER_HIDDEN_DIM], hidden[0] = 1, since it is not bidirectional.\n",
    "        \n",
    "        # prediction\n",
    "        # input to the nn: embeds, a, rnn_dec\n",
    "        # embeds output shape:    [1, BATCH_SIZE, EMBEDDING_DIM]\n",
    "        # attention output shape: [1, BATCH_SIZE, ENCODER_HIDDEN_DIM*2]\n",
    "        # rnn_dec shape:          [1, BATCH_SIZE, DECODER_HIDDEN_DIM]\n",
    "        \n",
    "        c1=torch.cat((rnn_dec, a, embeds), dim=2)\n",
    "        # c1 shape: [1, BATCH_SIZE, EMBEDDING_DIM+(ENCODER_HIDDEN_DIM*2)+DECODER_HIDDEN_DIM]\n",
    "        \n",
    "        pred = self.linear(c1).squeeze(0)\n",
    "        print(pred.shape)\n",
    "        # [1, BATCH_SIZE, EMBEDDING_SIZE_SPANISH]\n",
    "        \n",
    "        return pred, decoder_hidden.squeeze(0)"
   ]
  },
  {
   "cell_type": "code",
   "execution_count": 335,
   "metadata": {},
   "outputs": [
    {
     "ename": "RuntimeError",
     "evalue": "CUDA out of memory. Tried to allocate 3.88 MiB (GPU 0; 4.00 GiB total capacity; 2.65 GiB already allocated; 2.99 MiB free; 290.81 MiB cached)",
     "output_type": "error",
     "traceback": [
      "\u001b[1;31m---------------------------------------------------------------------------\u001b[0m",
      "\u001b[1;31mRuntimeError\u001b[0m                              Traceback (most recent call last)",
      "\u001b[1;32m<ipython-input-335-6ac2e217fced>\u001b[0m in \u001b[0;36m<module>\u001b[1;34m\u001b[0m\n\u001b[0;32m      1\u001b[0m \u001b[1;31m# encoder model\u001b[0m\u001b[1;33m\u001b[0m\u001b[1;33m\u001b[0m\u001b[1;33m\u001b[0m\u001b[0m\n\u001b[0;32m      2\u001b[0m \u001b[0mmodel\u001b[0m \u001b[1;33m=\u001b[0m \u001b[0mEncoder\u001b[0m\u001b[1;33m(\u001b[0m\u001b[0mEMBEDDING_DIM\u001b[0m\u001b[1;33m,\u001b[0m \u001b[0mEMBEDDING_SIZE_ENGLISH\u001b[0m\u001b[1;33m,\u001b[0m \u001b[0mENCODER_HIDDEN_DIM\u001b[0m\u001b[1;33m,\u001b[0m \u001b[0mDECODER_HIDDEN_DIM\u001b[0m\u001b[1;33m)\u001b[0m\u001b[1;33m\u001b[0m\u001b[1;33m\u001b[0m\u001b[0m\n\u001b[1;32m----> 3\u001b[1;33m \u001b[0mmodel\u001b[0m\u001b[1;33m.\u001b[0m\u001b[0mto\u001b[0m\u001b[1;33m(\u001b[0m\u001b[0mdevice\u001b[0m\u001b[1;33m)\u001b[0m\u001b[1;33m\u001b[0m\u001b[1;33m\u001b[0m\u001b[0m\n\u001b[0m\u001b[0;32m      4\u001b[0m \u001b[1;33m\u001b[0m\u001b[0m\n\u001b[0;32m      5\u001b[0m \u001b[0mmodel_attn\u001b[0m \u001b[1;33m=\u001b[0m \u001b[0mAttention\u001b[0m\u001b[1;33m(\u001b[0m\u001b[0mDECODER_HIDDEN_DIM\u001b[0m\u001b[1;33m,\u001b[0m \u001b[0mENCODER_HIDDEN_DIM\u001b[0m\u001b[1;33m)\u001b[0m\u001b[1;33m\u001b[0m\u001b[1;33m\u001b[0m\u001b[0m\n",
      "\u001b[1;32m~\\.conda\\envs\\pytorch\\lib\\site-packages\\torch\\nn\\modules\\module.py\u001b[0m in \u001b[0;36mto\u001b[1;34m(self, *args, **kwargs)\u001b[0m\n\u001b[0;32m    379\u001b[0m             \u001b[1;32mreturn\u001b[0m \u001b[0mt\u001b[0m\u001b[1;33m.\u001b[0m\u001b[0mto\u001b[0m\u001b[1;33m(\u001b[0m\u001b[0mdevice\u001b[0m\u001b[1;33m,\u001b[0m \u001b[0mdtype\u001b[0m \u001b[1;32mif\u001b[0m \u001b[0mt\u001b[0m\u001b[1;33m.\u001b[0m\u001b[0mis_floating_point\u001b[0m\u001b[1;33m(\u001b[0m\u001b[1;33m)\u001b[0m \u001b[1;32melse\u001b[0m \u001b[1;32mNone\u001b[0m\u001b[1;33m,\u001b[0m \u001b[0mnon_blocking\u001b[0m\u001b[1;33m)\u001b[0m\u001b[1;33m\u001b[0m\u001b[1;33m\u001b[0m\u001b[0m\n\u001b[0;32m    380\u001b[0m \u001b[1;33m\u001b[0m\u001b[0m\n\u001b[1;32m--> 381\u001b[1;33m         \u001b[1;32mreturn\u001b[0m \u001b[0mself\u001b[0m\u001b[1;33m.\u001b[0m\u001b[0m_apply\u001b[0m\u001b[1;33m(\u001b[0m\u001b[0mconvert\u001b[0m\u001b[1;33m)\u001b[0m\u001b[1;33m\u001b[0m\u001b[1;33m\u001b[0m\u001b[0m\n\u001b[0m\u001b[0;32m    382\u001b[0m \u001b[1;33m\u001b[0m\u001b[0m\n\u001b[0;32m    383\u001b[0m     \u001b[1;32mdef\u001b[0m \u001b[0mregister_backward_hook\u001b[0m\u001b[1;33m(\u001b[0m\u001b[0mself\u001b[0m\u001b[1;33m,\u001b[0m \u001b[0mhook\u001b[0m\u001b[1;33m)\u001b[0m\u001b[1;33m:\u001b[0m\u001b[1;33m\u001b[0m\u001b[1;33m\u001b[0m\u001b[0m\n",
      "\u001b[1;32m~\\.conda\\envs\\pytorch\\lib\\site-packages\\torch\\nn\\modules\\module.py\u001b[0m in \u001b[0;36m_apply\u001b[1;34m(self, fn)\u001b[0m\n\u001b[0;32m    185\u001b[0m     \u001b[1;32mdef\u001b[0m \u001b[0m_apply\u001b[0m\u001b[1;33m(\u001b[0m\u001b[0mself\u001b[0m\u001b[1;33m,\u001b[0m \u001b[0mfn\u001b[0m\u001b[1;33m)\u001b[0m\u001b[1;33m:\u001b[0m\u001b[1;33m\u001b[0m\u001b[1;33m\u001b[0m\u001b[0m\n\u001b[0;32m    186\u001b[0m         \u001b[1;32mfor\u001b[0m \u001b[0mmodule\u001b[0m \u001b[1;32min\u001b[0m \u001b[0mself\u001b[0m\u001b[1;33m.\u001b[0m\u001b[0mchildren\u001b[0m\u001b[1;33m(\u001b[0m\u001b[1;33m)\u001b[0m\u001b[1;33m:\u001b[0m\u001b[1;33m\u001b[0m\u001b[1;33m\u001b[0m\u001b[0m\n\u001b[1;32m--> 187\u001b[1;33m             \u001b[0mmodule\u001b[0m\u001b[1;33m.\u001b[0m\u001b[0m_apply\u001b[0m\u001b[1;33m(\u001b[0m\u001b[0mfn\u001b[0m\u001b[1;33m)\u001b[0m\u001b[1;33m\u001b[0m\u001b[1;33m\u001b[0m\u001b[0m\n\u001b[0m\u001b[0;32m    188\u001b[0m \u001b[1;33m\u001b[0m\u001b[0m\n\u001b[0;32m    189\u001b[0m         \u001b[1;32mfor\u001b[0m \u001b[0mparam\u001b[0m \u001b[1;32min\u001b[0m \u001b[0mself\u001b[0m\u001b[1;33m.\u001b[0m\u001b[0m_parameters\u001b[0m\u001b[1;33m.\u001b[0m\u001b[0mvalues\u001b[0m\u001b[1;33m(\u001b[0m\u001b[1;33m)\u001b[0m\u001b[1;33m:\u001b[0m\u001b[1;33m\u001b[0m\u001b[1;33m\u001b[0m\u001b[0m\n",
      "\u001b[1;32m~\\.conda\\envs\\pytorch\\lib\\site-packages\\torch\\nn\\modules\\rnn.py\u001b[0m in \u001b[0;36m_apply\u001b[1;34m(self, fn)\u001b[0m\n\u001b[0;32m    114\u001b[0m \u001b[1;33m\u001b[0m\u001b[0m\n\u001b[0;32m    115\u001b[0m     \u001b[1;32mdef\u001b[0m \u001b[0m_apply\u001b[0m\u001b[1;33m(\u001b[0m\u001b[0mself\u001b[0m\u001b[1;33m,\u001b[0m \u001b[0mfn\u001b[0m\u001b[1;33m)\u001b[0m\u001b[1;33m:\u001b[0m\u001b[1;33m\u001b[0m\u001b[1;33m\u001b[0m\u001b[0m\n\u001b[1;32m--> 116\u001b[1;33m         \u001b[0mret\u001b[0m \u001b[1;33m=\u001b[0m \u001b[0msuper\u001b[0m\u001b[1;33m(\u001b[0m\u001b[0mRNNBase\u001b[0m\u001b[1;33m,\u001b[0m \u001b[0mself\u001b[0m\u001b[1;33m)\u001b[0m\u001b[1;33m.\u001b[0m\u001b[0m_apply\u001b[0m\u001b[1;33m(\u001b[0m\u001b[0mfn\u001b[0m\u001b[1;33m)\u001b[0m\u001b[1;33m\u001b[0m\u001b[1;33m\u001b[0m\u001b[0m\n\u001b[0m\u001b[0;32m    117\u001b[0m         \u001b[0mself\u001b[0m\u001b[1;33m.\u001b[0m\u001b[0mflatten_parameters\u001b[0m\u001b[1;33m(\u001b[0m\u001b[1;33m)\u001b[0m\u001b[1;33m\u001b[0m\u001b[1;33m\u001b[0m\u001b[0m\n\u001b[0;32m    118\u001b[0m         \u001b[1;32mreturn\u001b[0m \u001b[0mret\u001b[0m\u001b[1;33m\u001b[0m\u001b[1;33m\u001b[0m\u001b[0m\n",
      "\u001b[1;32m~\\.conda\\envs\\pytorch\\lib\\site-packages\\torch\\nn\\modules\\module.py\u001b[0m in \u001b[0;36m_apply\u001b[1;34m(self, fn)\u001b[0m\n\u001b[0;32m    191\u001b[0m                 \u001b[1;31m# Tensors stored in modules are graph leaves, and we don't\u001b[0m\u001b[1;33m\u001b[0m\u001b[1;33m\u001b[0m\u001b[1;33m\u001b[0m\u001b[0m\n\u001b[0;32m    192\u001b[0m                 \u001b[1;31m# want to create copy nodes, so we have to unpack the data.\u001b[0m\u001b[1;33m\u001b[0m\u001b[1;33m\u001b[0m\u001b[1;33m\u001b[0m\u001b[0m\n\u001b[1;32m--> 193\u001b[1;33m                 \u001b[0mparam\u001b[0m\u001b[1;33m.\u001b[0m\u001b[0mdata\u001b[0m \u001b[1;33m=\u001b[0m \u001b[0mfn\u001b[0m\u001b[1;33m(\u001b[0m\u001b[0mparam\u001b[0m\u001b[1;33m.\u001b[0m\u001b[0mdata\u001b[0m\u001b[1;33m)\u001b[0m\u001b[1;33m\u001b[0m\u001b[1;33m\u001b[0m\u001b[0m\n\u001b[0m\u001b[0;32m    194\u001b[0m                 \u001b[1;32mif\u001b[0m \u001b[0mparam\u001b[0m\u001b[1;33m.\u001b[0m\u001b[0m_grad\u001b[0m \u001b[1;32mis\u001b[0m \u001b[1;32mnot\u001b[0m \u001b[1;32mNone\u001b[0m\u001b[1;33m:\u001b[0m\u001b[1;33m\u001b[0m\u001b[1;33m\u001b[0m\u001b[0m\n\u001b[0;32m    195\u001b[0m                     \u001b[0mparam\u001b[0m\u001b[1;33m.\u001b[0m\u001b[0m_grad\u001b[0m\u001b[1;33m.\u001b[0m\u001b[0mdata\u001b[0m \u001b[1;33m=\u001b[0m \u001b[0mfn\u001b[0m\u001b[1;33m(\u001b[0m\u001b[0mparam\u001b[0m\u001b[1;33m.\u001b[0m\u001b[0m_grad\u001b[0m\u001b[1;33m.\u001b[0m\u001b[0mdata\u001b[0m\u001b[1;33m)\u001b[0m\u001b[1;33m\u001b[0m\u001b[1;33m\u001b[0m\u001b[0m\n",
      "\u001b[1;32m~\\.conda\\envs\\pytorch\\lib\\site-packages\\torch\\nn\\modules\\module.py\u001b[0m in \u001b[0;36mconvert\u001b[1;34m(t)\u001b[0m\n\u001b[0;32m    377\u001b[0m \u001b[1;33m\u001b[0m\u001b[0m\n\u001b[0;32m    378\u001b[0m         \u001b[1;32mdef\u001b[0m \u001b[0mconvert\u001b[0m\u001b[1;33m(\u001b[0m\u001b[0mt\u001b[0m\u001b[1;33m)\u001b[0m\u001b[1;33m:\u001b[0m\u001b[1;33m\u001b[0m\u001b[1;33m\u001b[0m\u001b[0m\n\u001b[1;32m--> 379\u001b[1;33m             \u001b[1;32mreturn\u001b[0m \u001b[0mt\u001b[0m\u001b[1;33m.\u001b[0m\u001b[0mto\u001b[0m\u001b[1;33m(\u001b[0m\u001b[0mdevice\u001b[0m\u001b[1;33m,\u001b[0m \u001b[0mdtype\u001b[0m \u001b[1;32mif\u001b[0m \u001b[0mt\u001b[0m\u001b[1;33m.\u001b[0m\u001b[0mis_floating_point\u001b[0m\u001b[1;33m(\u001b[0m\u001b[1;33m)\u001b[0m \u001b[1;32melse\u001b[0m \u001b[1;32mNone\u001b[0m\u001b[1;33m,\u001b[0m \u001b[0mnon_blocking\u001b[0m\u001b[1;33m)\u001b[0m\u001b[1;33m\u001b[0m\u001b[1;33m\u001b[0m\u001b[0m\n\u001b[0m\u001b[0;32m    380\u001b[0m \u001b[1;33m\u001b[0m\u001b[0m\n\u001b[0;32m    381\u001b[0m         \u001b[1;32mreturn\u001b[0m \u001b[0mself\u001b[0m\u001b[1;33m.\u001b[0m\u001b[0m_apply\u001b[0m\u001b[1;33m(\u001b[0m\u001b[0mconvert\u001b[0m\u001b[1;33m)\u001b[0m\u001b[1;33m\u001b[0m\u001b[1;33m\u001b[0m\u001b[0m\n",
      "\u001b[1;31mRuntimeError\u001b[0m: CUDA out of memory. Tried to allocate 3.88 MiB (GPU 0; 4.00 GiB total capacity; 2.65 GiB already allocated; 2.99 MiB free; 290.81 MiB cached)"
     ]
    }
   ],
   "source": [
    "# encoder model\n",
    "model = Encoder(EMBEDDING_DIM, EMBEDDING_SIZE_ENGLISH, ENCODER_HIDDEN_DIM, DECODER_HIDDEN_DIM)\n",
    "model.to(device)\n",
    "\n",
    "model_attn = Attention(DECODER_HIDDEN_DIM, ENCODER_HIDDEN_DIM)\n",
    "model_attn.to(device)\n",
    "\n",
    "model_decoder = Decoder(EMBEDDING_DIM, EMBEDDING_SIZE_SPANISH, ENCODER_HIDDEN_DIM, DECODER_HIDDEN_DIM)\n",
    "model_decoder.to(device)\n",
    "\n",
    "optimizer = optim.Adam(model.parameters(), lr = 0.001)\n",
    "loss_function = nn.NLLLoss()"
   ]
  },
  {
   "cell_type": "code",
   "execution_count": 332,
   "metadata": {},
   "outputs": [
    {
     "name": "stdout",
     "output_type": "stream",
     "text": [
      "tensor([2839, 2839, 2839, 2839, 2568, 2839, 2839, 2839, 2839, 2839, 2839, 2839,\n",
      "        2839, 2839, 2839, 2839], device='cuda:0')\n",
      "tensor([1109, 2484,  297, 1666,  705, 2341, 2156, 2663,    7, 1109, 2516,  724,\n",
      "        2478, 2663, 2505,  473], device='cuda:0')\n",
      "tensor([ 728, 2236, 2019,  325,  315, 1865, 1877, 2156,    2, 2663, 2367,  902,\n",
      "         315, 2156,  315, 1432], device='cuda:0')\n",
      "tensor([ 315, 2622, 2198, 2198,  827, 2019, 2404,  902,    7,   60,  250,  707,\n",
      "         415,  902, 2141,    7], device='cuda:0')\n",
      "tensor([ 393,  315,  213,  315,  899, 1865,  902,  922,  315, 2754,    2, 2243,\n",
      "        2243,  922, 2505,  325], device='cuda:0')\n",
      "tensor([1245, 2828, 2040,  466,  250, 2141,  393,  922, 1283, 2141,   75,  902,\n",
      "        2663,  922,    7, 1865], device='cuda:0')\n",
      "tensor([ 312, 1245,   75, 1521, 2003,    7, 2341,  393, 1462,  250,  188,  466,\n",
      "        1290,  393, 1290, 2379], device='cuda:0')\n",
      "tensor([2839,  728, 2622,  315, 1836, 2754,  902,  466,  315, 2198, 1902, 2141,\n",
      "         902,  466, 1295, 2754], device='cuda:0')\n",
      "tensor([2839, 2341, 2652, 2622,  697, 2663,    7, 1290,  325, 1830,   75, 1109,\n",
      "        2243, 1290, 2754,  728], device='cuda:0')\n",
      "tensor([2839, 2851, 1588,  955,  899, 2341,  466,  311, 2141, 2496, 1322, 2633,\n",
      "         296,  311, 1843, 2141], device='cuda:0')\n",
      "tensor([2839,  902,  728, 2754,  315, 2754,  297,  296,    7, 2156, 1449,  297,\n",
      "        2141,  296, 1962,    7], device='cuda:0')\n",
      "tensor([2839,  250, 1480, 2615, 1077,  716,  393,  296, 2198, 2243,   74,  315,\n",
      "        1295,  296, 1865, 2754], device='cuda:0')\n",
      "tensor([2839, 2622, 1570, 1600,  433,  466, 2754,  296,  987,  139, 2201, 2141,\n",
      "         707,  296,  315, 1877], device='cuda:0')\n",
      "tensor([2839,  466,  893, 2754,  747,  297, 1887,  296, 1109,  296,  691, 2317,\n",
      "        2243,  296, 2478,  862], device='cuda:0')\n",
      "tensor([2839, 1977, 2003,  902,  250, 2663,  311,  296, 1436, 2001,  899,  325,\n",
      "         325,  296, 2505,  902], device='cuda:0')\n",
      "tensor([2839, 2828,   26, 2496,  128, 2754, 2839,  296, 2663, 2141,  752, 2663,\n",
      "        2663,  296,  311, 1245], device='cuda:0')\n",
      "tensor([2839, 1146,  315, 2622, 1354, 2505, 2839,  296, 1290, 2341, 2683, 1043,\n",
      "        1043,  296, 2839, 2141], device='cuda:0')\n",
      "tensor([2839, 1999,  584, 2083, 2683,  311, 2839,  296, 1462, 1322, 2462,  311,\n",
      "        2505,  296, 2839, 2496], device='cuda:0')\n",
      "tensor([2839,  902, 2496,  466, 2117, 2839, 2839,  296, 2754, 1568,  455, 2404,\n",
      "         311,  296, 2839,  466], device='cuda:0')\n",
      "tensor([2839,  125, 1829,  178,  697, 2839, 2839,  296, 2496,  902, 1283, 2754,\n",
      "         296,  296, 2839, 1865], device='cuda:0')\n",
      "tensor([2839, 1371,   75,  315, 2454, 2839, 2839,  296, 2156, 1295,  228, 2341,\n",
      "         296,  296, 2839, 2854], device='cuda:0')\n",
      "tensor([2839,  705,   98,  466,  250, 2839, 2839,  296, 2243, 2243, 2514,  311,\n",
      "         296,  296, 2839, 2341], device='cuda:0')\n",
      "tensor([2839, 1666, 2678, 1245, 2057, 2839, 2839,  296, 1290,  728, 2057, 2839,\n",
      "         296,  296, 2839,  311], device='cuda:0')\n",
      "tensor([2839,  325,  899, 2341, 1452, 2839, 2839,  296,  889, 2007, 1490, 2839,\n",
      "         296,  296, 2839, 2839], device='cuda:0')\n",
      "tensor([2839,  473,  820,  311,  297, 2839, 2839,  296, 2839,  213, 2280, 2839,\n",
      "         296,  296, 2839, 2839], device='cuda:0')\n",
      "tensor([2839, 2397,  899,  296,  899, 2839, 2839,  296, 2839, 2622, 2799, 2839,\n",
      "         296,  296, 2839, 2839], device='cuda:0')\n",
      "tensor([2839, 2828, 2681,  296, 2799, 2839, 2839,  296, 2839, 2404,  303, 2839,\n",
      "         296,  296, 2839, 2839], device='cuda:0')\n",
      "tensor([2839, 2141,  584,  296, 2496, 2839, 2839,  296, 2839, 2851,  446, 2839,\n",
      "         296,  296, 2839, 2839], device='cuda:0')\n",
      "tensor([2839,  836, 2198,  296,  280, 2839, 2839,  296, 2839, 2341,   75, 2839,\n",
      "         296,  296, 2839, 2839], device='cuda:0')\n",
      "tensor([2839, 1371,  296,  296,  899, 2839, 2839,  296, 2839,  889, 2527, 2839,\n",
      "         296,  296, 2839, 2839], device='cuda:0')\n",
      "tensor([2839, 1916, 1633,  296, 2454, 2839, 2839,  296, 2839, 2839,  250, 2839,\n",
      "         296,  296, 2839, 2839], device='cuda:0')\n",
      "tensor([2839, 2269,  899,  296,   60, 2839, 2839,  296, 2839, 2839,  926, 2839,\n",
      "         296,  296, 2839, 2839], device='cuda:0')\n",
      "tensor([2839, 2708,  315,  296, 1633, 2839, 2839,  296, 2839, 2839, 2622, 2839,\n",
      "         296,  296, 2839, 2839], device='cuda:0')\n",
      "tensor([2839,  584, 1977,  296,  899, 2839, 2839,  296, 2839, 2839,  850, 2839,\n",
      "         296,  296, 2839, 2839], device='cuda:0')\n",
      "tensor([2839,  889, 2271,  296,   60, 2839, 2839,  296, 2839, 2839, 2437, 2839,\n",
      "         296,  296, 2839, 2839], device='cuda:0')\n",
      "tensor([2839, 2839, 2198,  296, 2237, 2839, 2839,  296, 2839, 2839, 2462, 2839,\n",
      "         296,  296, 2839, 2839], device='cuda:0')\n",
      "tensor([2839, 2839,  584,  296,  697, 2839, 2839,  296, 2839, 2839,   74, 2839,\n",
      "         296,  296, 2839, 2839], device='cuda:0')\n",
      "tensor([2839, 2839,  889,  296, 2496, 2839, 2839,  296, 2839, 2839, 1449, 2839,\n",
      "         296,  296, 2839, 2839], device='cuda:0')\n",
      "tensor([2839, 2839, 1828,  296,  719, 2839, 2839,  296, 2839, 2839,  993, 2839,\n",
      "         296,  296, 2839, 2839], device='cuda:0')\n",
      "tensor([2839, 2839, 1828,  296, 2729, 2839, 2839,  296, 2839, 2839, 2126, 2839,\n",
      "         296,  296, 2839, 2839], device='cuda:0')\n",
      "tensor([2839, 2839, 1828,  296,  584, 2839, 2839,  296, 2839, 2839, 1588, 2839,\n",
      "         296,  296, 2839, 2839], device='cuda:0')\n",
      "tensor([2839, 2839, 1828,  296,  899, 2839, 2839,  296, 2839, 2839,  315, 2839,\n",
      "         296,  296, 2839, 2839], device='cuda:0')\n",
      "tensor([2839, 2839, 1828,  296,  315, 2839, 2839,  296, 2839, 2839, 2169, 2839,\n",
      "         296,  296, 2839, 2839], device='cuda:0')\n",
      "tensor([2839, 2839, 1828,  296,  800, 2839, 2839,  296, 2839, 2839, 1109, 2839,\n",
      "         296,  296, 2839, 2839], device='cuda:0')\n",
      "tensor([2839, 2839, 1828,  296, 1806, 2839, 2839,  296, 2839, 2839, 2685, 2839,\n",
      "         296,  296, 2839, 2839], device='cuda:0')\n",
      "tensor([2839, 2839, 1828,  296, 1588, 2839, 2839,  296, 2839, 2839,  250, 2839,\n",
      "         296,  296, 2839, 2839], device='cuda:0')\n",
      "tensor([2839, 2839, 1828,  296, 2341, 2839, 2839,  296, 2839, 2839, 1258, 2839,\n",
      "         296,  296, 2839, 2839], device='cuda:0')\n"
     ]
    },
    {
     "ename": "RuntimeError",
     "evalue": "CUDA out of memory. Tried to allocate 6.12 MiB (GPU 0; 4.00 GiB total capacity; 2.65 GiB already allocated; 2.99 MiB free; 290.57 MiB cached)",
     "output_type": "error",
     "traceback": [
      "\u001b[1;31m---------------------------------------------------------------------------\u001b[0m",
      "\u001b[1;31mRuntimeError\u001b[0m                              Traceback (most recent call last)",
      "\u001b[1;32m<ipython-input-332-73120c77621f>\u001b[0m in \u001b[0;36m<module>\u001b[1;34m\u001b[0m\n\u001b[0;32m     22\u001b[0m             \u001b[1;31m# at each loop, 1st word of every 16 batches (sentences) will be fed into the decoder.\u001b[0m\u001b[1;33m\u001b[0m\u001b[1;33m\u001b[0m\u001b[1;33m\u001b[0m\u001b[0m\n\u001b[0;32m     23\u001b[0m \u001b[1;33m\u001b[0m\u001b[0m\n\u001b[1;32m---> 24\u001b[1;33m             \u001b[0moutput\u001b[0m\u001b[1;33m,\u001b[0m \u001b[0mdecoder_hidden\u001b[0m \u001b[1;33m=\u001b[0m \u001b[0mmodel_decoder\u001b[0m\u001b[1;33m(\u001b[0m\u001b[0mes\u001b[0m\u001b[1;33m[\u001b[0m\u001b[0mi\u001b[0m\u001b[1;33m]\u001b[0m\u001b[1;33m,\u001b[0m \u001b[0mencoder_output\u001b[0m\u001b[1;33m,\u001b[0m \u001b[0mdecoder_hidden\u001b[0m\u001b[1;33m)\u001b[0m\u001b[1;33m\u001b[0m\u001b[1;33m\u001b[0m\u001b[0m\n\u001b[0m\u001b[0;32m     25\u001b[0m \u001b[1;33m\u001b[0m\u001b[0m\n\u001b[0;32m     26\u001b[0m             \u001b[0mprint\u001b[0m\u001b[1;33m(\u001b[0m\u001b[0moutput\u001b[0m\u001b[1;33m.\u001b[0m\u001b[0msqueeze\u001b[0m\u001b[1;33m(\u001b[0m\u001b[1;36m0\u001b[0m\u001b[1;33m)\u001b[0m\u001b[1;33m.\u001b[0m\u001b[0margmax\u001b[0m\u001b[1;33m(\u001b[0m\u001b[1;36m1\u001b[0m\u001b[1;33m)\u001b[0m\u001b[1;33m)\u001b[0m\u001b[1;33m\u001b[0m\u001b[1;33m\u001b[0m\u001b[0m\n",
      "\u001b[1;32m~\\.conda\\envs\\pytorch\\lib\\site-packages\\torch\\nn\\modules\\module.py\u001b[0m in \u001b[0;36m__call__\u001b[1;34m(self, *input, **kwargs)\u001b[0m\n\u001b[0;32m    487\u001b[0m             \u001b[0mresult\u001b[0m \u001b[1;33m=\u001b[0m \u001b[0mself\u001b[0m\u001b[1;33m.\u001b[0m\u001b[0m_slow_forward\u001b[0m\u001b[1;33m(\u001b[0m\u001b[1;33m*\u001b[0m\u001b[0minput\u001b[0m\u001b[1;33m,\u001b[0m \u001b[1;33m**\u001b[0m\u001b[0mkwargs\u001b[0m\u001b[1;33m)\u001b[0m\u001b[1;33m\u001b[0m\u001b[1;33m\u001b[0m\u001b[0m\n\u001b[0;32m    488\u001b[0m         \u001b[1;32melse\u001b[0m\u001b[1;33m:\u001b[0m\u001b[1;33m\u001b[0m\u001b[1;33m\u001b[0m\u001b[0m\n\u001b[1;32m--> 489\u001b[1;33m             \u001b[0mresult\u001b[0m \u001b[1;33m=\u001b[0m \u001b[0mself\u001b[0m\u001b[1;33m.\u001b[0m\u001b[0mforward\u001b[0m\u001b[1;33m(\u001b[0m\u001b[1;33m*\u001b[0m\u001b[0minput\u001b[0m\u001b[1;33m,\u001b[0m \u001b[1;33m**\u001b[0m\u001b[0mkwargs\u001b[0m\u001b[1;33m)\u001b[0m\u001b[1;33m\u001b[0m\u001b[1;33m\u001b[0m\u001b[0m\n\u001b[0m\u001b[0;32m    490\u001b[0m         \u001b[1;32mfor\u001b[0m \u001b[0mhook\u001b[0m \u001b[1;32min\u001b[0m \u001b[0mself\u001b[0m\u001b[1;33m.\u001b[0m\u001b[0m_forward_hooks\u001b[0m\u001b[1;33m.\u001b[0m\u001b[0mvalues\u001b[0m\u001b[1;33m(\u001b[0m\u001b[1;33m)\u001b[0m\u001b[1;33m:\u001b[0m\u001b[1;33m\u001b[0m\u001b[1;33m\u001b[0m\u001b[0m\n\u001b[0;32m    491\u001b[0m             \u001b[0mhook_result\u001b[0m \u001b[1;33m=\u001b[0m \u001b[0mhook\u001b[0m\u001b[1;33m(\u001b[0m\u001b[0mself\u001b[0m\u001b[1;33m,\u001b[0m \u001b[0minput\u001b[0m\u001b[1;33m,\u001b[0m \u001b[0mresult\u001b[0m\u001b[1;33m)\u001b[0m\u001b[1;33m\u001b[0m\u001b[1;33m\u001b[0m\u001b[0m\n",
      "\u001b[1;32m<ipython-input-330-14039c209d54>\u001b[0m in \u001b[0;36mforward\u001b[1;34m(self, target_lang, encoder_output, decoder_hidden)\u001b[0m\n\u001b[0;32m     27\u001b[0m         \u001b[1;31m# encoder_output: [sequence_len, batch_size, ENCODER_HIDDEN_DIM*2]\u001b[0m\u001b[1;33m\u001b[0m\u001b[1;33m\u001b[0m\u001b[1;33m\u001b[0m\u001b[0m\n\u001b[0;32m     28\u001b[0m         \u001b[1;31m# decoder_hidden: [batch_size, DECODER_HIDDEN_DIM]\u001b[0m\u001b[1;33m\u001b[0m\u001b[1;33m\u001b[0m\u001b[1;33m\u001b[0m\u001b[0m\n\u001b[1;32m---> 29\u001b[1;33m         \u001b[0ma\u001b[0m \u001b[1;33m=\u001b[0m \u001b[0mself\u001b[0m\u001b[1;33m.\u001b[0m\u001b[0mattention\u001b[0m\u001b[1;33m(\u001b[0m\u001b[0mencoder_output\u001b[0m\u001b[1;33m,\u001b[0m \u001b[0mdecoder_hidden\u001b[0m\u001b[1;33m)\u001b[0m\u001b[1;33m\u001b[0m\u001b[1;33m\u001b[0m\u001b[0m\n\u001b[0m\u001b[0;32m     30\u001b[0m         \u001b[1;31m# attention shape: [BATCH_SIZE, 1, ENCODER_HIDDEN_DIM*2]\u001b[0m\u001b[1;33m\u001b[0m\u001b[1;33m\u001b[0m\u001b[1;33m\u001b[0m\u001b[0m\n\u001b[0;32m     31\u001b[0m \u001b[1;33m\u001b[0m\u001b[0m\n",
      "\u001b[1;32m~\\.conda\\envs\\pytorch\\lib\\site-packages\\torch\\nn\\modules\\module.py\u001b[0m in \u001b[0;36m__call__\u001b[1;34m(self, *input, **kwargs)\u001b[0m\n\u001b[0;32m    487\u001b[0m             \u001b[0mresult\u001b[0m \u001b[1;33m=\u001b[0m \u001b[0mself\u001b[0m\u001b[1;33m.\u001b[0m\u001b[0m_slow_forward\u001b[0m\u001b[1;33m(\u001b[0m\u001b[1;33m*\u001b[0m\u001b[0minput\u001b[0m\u001b[1;33m,\u001b[0m \u001b[1;33m**\u001b[0m\u001b[0mkwargs\u001b[0m\u001b[1;33m)\u001b[0m\u001b[1;33m\u001b[0m\u001b[1;33m\u001b[0m\u001b[0m\n\u001b[0;32m    488\u001b[0m         \u001b[1;32melse\u001b[0m\u001b[1;33m:\u001b[0m\u001b[1;33m\u001b[0m\u001b[1;33m\u001b[0m\u001b[0m\n\u001b[1;32m--> 489\u001b[1;33m             \u001b[0mresult\u001b[0m \u001b[1;33m=\u001b[0m \u001b[0mself\u001b[0m\u001b[1;33m.\u001b[0m\u001b[0mforward\u001b[0m\u001b[1;33m(\u001b[0m\u001b[1;33m*\u001b[0m\u001b[0minput\u001b[0m\u001b[1;33m,\u001b[0m \u001b[1;33m**\u001b[0m\u001b[0mkwargs\u001b[0m\u001b[1;33m)\u001b[0m\u001b[1;33m\u001b[0m\u001b[1;33m\u001b[0m\u001b[0m\n\u001b[0m\u001b[0;32m    490\u001b[0m         \u001b[1;32mfor\u001b[0m \u001b[0mhook\u001b[0m \u001b[1;32min\u001b[0m \u001b[0mself\u001b[0m\u001b[1;33m.\u001b[0m\u001b[0m_forward_hooks\u001b[0m\u001b[1;33m.\u001b[0m\u001b[0mvalues\u001b[0m\u001b[1;33m(\u001b[0m\u001b[1;33m)\u001b[0m\u001b[1;33m:\u001b[0m\u001b[1;33m\u001b[0m\u001b[1;33m\u001b[0m\u001b[0m\n\u001b[0;32m    491\u001b[0m             \u001b[0mhook_result\u001b[0m \u001b[1;33m=\u001b[0m \u001b[0mhook\u001b[0m\u001b[1;33m(\u001b[0m\u001b[0mself\u001b[0m\u001b[1;33m,\u001b[0m \u001b[0minput\u001b[0m\u001b[1;33m,\u001b[0m \u001b[0mresult\u001b[0m\u001b[1;33m)\u001b[0m\u001b[1;33m\u001b[0m\u001b[1;33m\u001b[0m\u001b[0m\n",
      "\u001b[1;32m<ipython-input-329-7d020bcdcb70>\u001b[0m in \u001b[0;36mforward\u001b[1;34m(self, encoder_output, decoder_hidden)\u001b[0m\n\u001b[0;32m     48\u001b[0m         \u001b[1;31m# https://pytorch.org/docs/stable/generated/torch.bmm.html\u001b[0m\u001b[1;33m\u001b[0m\u001b[1;33m\u001b[0m\u001b[1;33m\u001b[0m\u001b[0m\n\u001b[0;32m     49\u001b[0m \u001b[1;33m\u001b[0m\u001b[0m\n\u001b[1;32m---> 50\u001b[1;33m         \u001b[0ma\u001b[0m\u001b[1;33m=\u001b[0m\u001b[0malpha\u001b[0m\u001b[1;33m@\u001b[0m\u001b[0mencoder_output\u001b[0m     \u001b[1;31m# multiplying all the words in each sequence, from 1..N, wher N=sequence len.\u001b[0m\u001b[1;33m\u001b[0m\u001b[1;33m\u001b[0m\u001b[0m\n\u001b[0m\u001b[0;32m     51\u001b[0m         \u001b[1;31m# [batch_size, 1, sequence_len] * [batch_size, sequence_len, ENCODER_HIDDEN_DIM*2]\u001b[0m\u001b[1;33m\u001b[0m\u001b[1;33m\u001b[0m\u001b[1;33m\u001b[0m\u001b[0m\n\u001b[0;32m     52\u001b[0m         \u001b[1;31m# attention- shape : [batch_size, 1, ENCODER_HIDDEN_DIM*2]\u001b[0m\u001b[1;33m\u001b[0m\u001b[1;33m\u001b[0m\u001b[1;33m\u001b[0m\u001b[0m\n",
      "\u001b[1;31mRuntimeError\u001b[0m: CUDA out of memory. Tried to allocate 6.12 MiB (GPU 0; 4.00 GiB total capacity; 2.65 GiB already allocated; 2.99 MiB free; 290.57 MiB cached)"
     ]
    }
   ],
   "source": [
    "for epochs in range(EPOCHS):\n",
    "    total_loss = 0\n",
    "    model.to(device)\n",
    "    for i in range(0, len(english_tokenized_tensor), BATCH_SIZE):\n",
    "        english_batch = english_tokenized_tensor[i:i+BATCH_SIZE] \n",
    "        spanish_batch = spanish_tokenized_tensor[i:i+BATCH_SIZE] \n",
    "\n",
    "        en, es = padding(english_batch, spanish_batch) # shape : [sequence_length, batch_size]\n",
    "\n",
    "        en = en.to(device)\n",
    "        es = es.to(device)\n",
    "\n",
    "        encoder_output, enc_hidden = model(en)\n",
    "        \n",
    "        decoder_hidden = enc_hidden    # need to change this somehow.\n",
    "        \n",
    "        #attention = model_attn(encoder_output, decoder_hidden)  # no need to menton here\n",
    "        \n",
    "        # feed the target sentence, one by one word\n",
    "        for i in range(MAX_SENTENCE_LENGTH):\n",
    "            \n",
    "            # at each loop, 1st word of every 16 batches (sentences) will be fed into the decoder.\n",
    "            \n",
    "            output, decoder_hidden = model_decoder(es[i], encoder_output, decoder_hidden)\n",
    "\n",
    "            #print(output.squeeze(0).argmax(1))\n",
    "            \n",
    "        #model_attn(encoder_output, decoder_hidden)"
   ]
  },
  {
   "cell_type": "code",
   "execution_count": 325,
   "metadata": {},
   "outputs": [
    {
     "data": {
      "text/plain": [
       "tensor([[[ 0.7648, -0.3719],\n",
       "         [ 0.7351,  0.9866],\n",
       "         [ 1.1867, -1.3069]],\n",
       "\n",
       "        [[-0.7972, -2.1307],\n",
       "         [-0.5821,  0.9901],\n",
       "         [-0.6949, -1.1628]],\n",
       "\n",
       "        [[-0.7456,  1.2057],\n",
       "         [ 0.8060, -1.8569],\n",
       "         [-0.1082, -0.4142]],\n",
       "\n",
       "        [[ 0.5383,  0.1486],\n",
       "         [ 0.2636, -1.9168],\n",
       "         [-1.3498,  0.6109]]])"
      ]
     },
     "execution_count": 325,
     "metadata": {},
     "output_type": "execute_result"
    }
   ],
   "source": [
    "a = torch.randn(4, 3, 2)\n",
    "a"
   ]
  },
  {
   "cell_type": "code",
   "execution_count": 326,
   "metadata": {},
   "outputs": [
    {
     "data": {
      "text/plain": [
       "(tensor([[0.7648, 1.2057],\n",
       "         [0.8060, 0.9901],\n",
       "         [1.1867, 0.6109]]), tensor([[0, 2],\n",
       "         [2, 1],\n",
       "         [0, 3]]))"
      ]
     },
     "execution_count": 326,
     "metadata": {},
     "output_type": "execute_result"
    }
   ],
   "source": [
    "torch.max(a, dim=0)"
   ]
  },
  {
   "cell_type": "code",
   "execution_count": null,
   "metadata": {},
   "outputs": [],
   "source": []
  },
  {
   "cell_type": "code",
   "execution_count": null,
   "metadata": {},
   "outputs": [],
   "source": []
  }
 ],
 "metadata": {
  "kernelspec": {
   "display_name": "pytorch",
   "language": "python",
   "name": "pytorch"
  },
  "language_info": {
   "codemirror_mode": {
    "name": "ipython",
    "version": 3
   },
   "file_extension": ".py",
   "mimetype": "text/x-python",
   "name": "python",
   "nbconvert_exporter": "python",
   "pygments_lexer": "ipython3",
   "version": "3.7.4"
  }
 },
 "nbformat": 4,
 "nbformat_minor": 4
}
